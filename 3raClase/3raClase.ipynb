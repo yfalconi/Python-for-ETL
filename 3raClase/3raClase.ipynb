{
 "cells": [
  {
   "cell_type": "code",
   "execution_count": 23,
   "metadata": {},
   "outputs": [],
   "source": [
    "import polars as pl\n",
    "# Permite configurar la cantidad de caracteres o dígitos que se mostrarán por columna\n",
    "from polars import Config\n",
    "\n",
    "data = pl.read_csv(r\"C:/Users/yohan/Documents/ELTLessons/1raClase/ReporteVentas.csv\", separator=\";\")\n"
   ]
  },
  {
   "cell_type": "code",
   "execution_count": 22,
   "metadata": {},
   "outputs": [
    {
     "data": {
      "text/html": [
       "<div><style>\n",
       ".dataframe > thead > tr,\n",
       ".dataframe > tbody > tr {\n",
       "  text-align: right;\n",
       "  white-space: pre-wrap;\n",
       "}\n",
       "</style>\n",
       "<small>shape: (5, 5)</small><table border=\"1\" class=\"dataframe\"><thead><tr><th>Factura</th><th>Pais</th><th>Tienda</th><th>Pais2</th><th>Precio</th></tr><tr><td>i64</td><td>str</td><td>str</td><td>str</td><td>f64</td></tr></thead><tbody><tr><td>55275</td><td>&quot;Canada&quot;</td><td>&quot;ModCloth&quot;</td><td>&quot;Can&quot;</td><td>211.17</td></tr><tr><td>59064</td><td>&quot;United Kingdom…</td><td>&quot;GameStop&quot;</td><td>&quot;Uni&quot;</td><td>211.17</td></tr><tr><td>65321</td><td>&quot;United States&quot;</td><td>&quot;Amazon&quot;</td><td>&quot;Uni&quot;</td><td>218.45</td></tr><tr><td>57066</td><td>&quot;Germany&quot;</td><td>&quot;Alibaba&quot;</td><td>&quot;Ger&quot;</td><td>48.74</td></tr><tr><td>71691</td><td>&quot;Germany&quot;</td><td>&quot;Alibaba&quot;</td><td>&quot;Ger&quot;</td><td>48.74</td></tr></tbody></table></div>"
      ],
      "text/plain": [
       "shape: (5, 5)\n",
       "┌─────────┬────────────────┬──────────┬───────┬────────┐\n",
       "│ Factura ┆ Pais           ┆ Tienda   ┆ Pais2 ┆ Precio │\n",
       "│ ---     ┆ ---            ┆ ---      ┆ ---   ┆ ---    │\n",
       "│ i64     ┆ str            ┆ str      ┆ str   ┆ f64    │\n",
       "╞═════════╪════════════════╪══════════╪═══════╪════════╡\n",
       "│ 55275   ┆ Canada         ┆ ModCloth ┆ Can   ┆ 211.17 │\n",
       "│ 59064   ┆ United Kingdom ┆ GameStop ┆ Uni   ┆ 211.17 │\n",
       "│ 65321   ┆ United States  ┆ Amazon   ┆ Uni   ┆ 218.45 │\n",
       "│ 57066   ┆ Germany        ┆ Alibaba  ┆ Ger   ┆ 48.74  │\n",
       "│ 71691   ┆ Germany        ┆ Alibaba  ┆ Ger   ┆ 48.74  │\n",
       "└─────────┴────────────────┴──────────┴───────┴────────┘"
      ]
     },
     "execution_count": 22,
     "metadata": {},
     "output_type": "execute_result"
    }
   ],
   "source": [
    "data.select('Factura','Pais','Tienda', \n",
    "            pl.col('Pais').str.slice(offset=0, length=3).alias('Pais2'),\n",
    "            pl.col('Precio').cast(pl.Float64).round(2)\n",
    "            ).head()\n"
   ]
  },
  {
   "cell_type": "code",
   "execution_count": 25,
   "metadata": {},
   "outputs": [
    {
     "data": {
      "text/plain": [
       "OrderedDict([('Factura', Int64),\n",
       "             ('ClienteID', Int64),\n",
       "             ('Cliente', String),\n",
       "             ('Tienda', String),\n",
       "             ('Pais', String),\n",
       "             ('Fecha Pedido', String),\n",
       "             ('Fecha Entrega', String),\n",
       "             ('Producto', String),\n",
       "             ('Unidades', Int64),\n",
       "             ('Precio', Float64)])"
      ]
     },
     "execution_count": 25,
     "metadata": {},
     "output_type": "execute_result"
    }
   ],
   "source": [
    "data.schema"
   ]
  },
  {
   "cell_type": "code",
   "execution_count": 27,
   "metadata": {},
   "outputs": [
    {
     "data": {
      "text/html": [
       "<div><style>\n",
       ".dataframe > thead > tr,\n",
       ".dataframe > tbody > tr {\n",
       "  text-align: right;\n",
       "  white-space: pre-wrap;\n",
       "}\n",
       "</style>\n",
       "<small>shape: (5, 10)</small><table border=\"1\" class=\"dataframe\"><thead><tr><th>Factura</th><th>ClienteID</th><th>Cliente</th><th>Tienda</th><th>Pais</th><th>Fecha Pedido</th><th>Fecha Entrega</th><th>Producto</th><th>Unidades</th><th>Precio</th></tr><tr><td>i64</td><td>i64</td><td>str</td><td>str</td><td>str</td><td>str</td><td>str</td><td>str</td><td>i64</td><td>f64</td></tr></thead><tbody><tr><td>55275</td><td>30000</td><td>&quot;James McCoy&quot;</td><td>&quot;ModCloth&quot;</td><td>&quot;Canada&quot;</td><td>&quot;2024-01-30&quot;</td><td>&quot;2024-02-06&quot;</td><td>&quot;ML Mountain Fr…</td><td>12</td><td>211.1722</td></tr><tr><td>59064</td><td>30050</td><td>&quot;Krishna Sunkam…</td><td>&quot;GameStop&quot;</td><td>&quot;United Kingdom…</td><td>&quot;2024-03-30&quot;</td><td>&quot;2024-04-07&quot;</td><td>&quot;ML Mountain Fr…</td><td>13</td><td>211.1722</td></tr><tr><td>65321</td><td>29487</td><td>&quot;Humberto Aceve…</td><td>&quot;Amazon&quot;</td><td>&quot;United States&quot;</td><td>&quot;2024-06-29&quot;</td><td>&quot;2024-07-05&quot;</td><td>&quot;ML Mountain Fr…</td><td>1</td><td>218.454</td></tr><tr><td>57066</td><td>29586</td><td>&quot;David Brink&quot;</td><td>&quot;Alibaba&quot;</td><td>&quot;Germany&quot;</td><td>&quot;2024-02-28&quot;</td><td>&quot;2024-03-09&quot;</td><td>&quot;Women&#x27;s Tights…</td><td>4</td><td>48.7435</td></tr><tr><td>71691</td><td>29676</td><td>&quot;Peter Connelly…</td><td>&quot;Alibaba&quot;</td><td>&quot;Germany&quot;</td><td>&quot;2024-09-30&quot;</td><td>&quot;2024-10-06&quot;</td><td>&quot;Women&#x27;s Tights…</td><td>2</td><td>48.7435</td></tr></tbody></table></div>"
      ],
      "text/plain": [
       "shape: (5, 10)\n",
       "┌─────────┬───────────┬─────────────┬──────────┬───┬────────────┬────────────┬──────────┬──────────┐\n",
       "│ Factura ┆ ClienteID ┆ Cliente     ┆ Tienda   ┆ … ┆ Fecha      ┆ Producto   ┆ Unidades ┆ Precio   │\n",
       "│ ---     ┆ ---       ┆ ---         ┆ ---      ┆   ┆ Entrega    ┆ ---        ┆ ---      ┆ ---      │\n",
       "│ i64     ┆ i64       ┆ str         ┆ str      ┆   ┆ ---        ┆ str        ┆ i64      ┆ f64      │\n",
       "│         ┆           ┆             ┆          ┆   ┆ str        ┆            ┆          ┆          │\n",
       "╞═════════╪═══════════╪═════════════╪══════════╪═══╪════════════╪════════════╪══════════╪══════════╡\n",
       "│ 55275   ┆ 30000     ┆ James McCoy ┆ ModCloth ┆ … ┆ 2024-02-06 ┆ ML         ┆ 12       ┆ 211.1722 │\n",
       "│         ┆           ┆             ┆          ┆   ┆            ┆ Mountain   ┆          ┆          │\n",
       "│         ┆           ┆             ┆          ┆   ┆            ┆ Frame-W -  ┆          ┆          │\n",
       "│         ┆           ┆             ┆          ┆   ┆            ┆ Silver, 40 ┆          ┆          │\n",
       "│ 59064   ┆ 30050     ┆ Krishna Sun ┆ GameStop ┆ … ┆ 2024-04-07 ┆ ML         ┆ 13       ┆ 211.1722 │\n",
       "│         ┆           ┆ kammurali   ┆          ┆   ┆            ┆ Mountain   ┆          ┆          │\n",
       "│         ┆           ┆             ┆          ┆   ┆            ┆ Frame-W -  ┆          ┆          │\n",
       "│         ┆           ┆             ┆          ┆   ┆            ┆ Silver, 40 ┆          ┆          │\n",
       "│ 65321   ┆ 29487     ┆ Humberto    ┆ Amazon   ┆ … ┆ 2024-07-05 ┆ ML         ┆ 1        ┆ 218.454  │\n",
       "│         ┆           ┆ Acevedo     ┆          ┆   ┆            ┆ Mountain   ┆          ┆          │\n",
       "│         ┆           ┆             ┆          ┆   ┆            ┆ Frame-W -  ┆          ┆          │\n",
       "│         ┆           ┆             ┆          ┆   ┆            ┆ Silver, 42 ┆          ┆          │\n",
       "│ 57066   ┆ 29586     ┆ David Brink ┆ Alibaba  ┆ … ┆ 2024-03-09 ┆ Women's    ┆ 4        ┆ 48.7435  │\n",
       "│         ┆           ┆             ┆          ┆   ┆            ┆ Tights, S  ┆          ┆          │\n",
       "│ 71691   ┆ 29676     ┆ Peter       ┆ Alibaba  ┆ … ┆ 2024-10-06 ┆ Women's    ┆ 2        ┆ 48.7435  │\n",
       "│         ┆           ┆ Connelly    ┆          ┆   ┆            ┆ Tights, S  ┆          ┆          │\n",
       "└─────────┴───────────┴─────────────┴──────────┴───┴────────────┴────────────┴──────────┴──────────┘"
      ]
     },
     "execution_count": 27,
     "metadata": {},
     "output_type": "execute_result"
    }
   ],
   "source": [
    "data.group_by(\n",
    "    pl.col('Fecha Pedido').cast(pl.Date).dt.month().alias('Nro Mes')\n",
    ").agg(\n",
    "    (pl.col('Unidades') * pl.col('Precio')).mean().alias('Ventas')\n",
    ")\n",
    "\n",
    "# .sort(\n",
    "#     by='Nro Mes',\n",
    "#     ascending = False\n",
    "# )\n",
    "data.head()"
   ]
  }
 ],
 "metadata": {
  "kernelspec": {
   "display_name": "vEdicion1",
   "language": "python",
   "name": "python3"
  },
  "language_info": {
   "codemirror_mode": {
    "name": "ipython",
    "version": 3
   },
   "file_extension": ".py",
   "mimetype": "text/x-python",
   "name": "python",
   "nbconvert_exporter": "python",
   "pygments_lexer": "ipython3",
   "version": "3.11.6"
  }
 },
 "nbformat": 4,
 "nbformat_minor": 2
}
