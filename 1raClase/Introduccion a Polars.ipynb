{
 "cells": [
  {
   "cell_type": "code",
   "execution_count": 10,
   "metadata": {},
   "outputs": [],
   "source": [
    "import polars as pl"
   ]
  },
  {
   "cell_type": "markdown",
   "metadata": {},
   "source": [
    "#### 1. Creación de un dataframe de polars"
   ]
  },
  {
   "cell_type": "code",
   "execution_count": 11,
   "metadata": {},
   "outputs": [
    {
     "data": {
      "text/plain": [
       "{'Codigo Alumno': [10, 11, 12],\n",
       " 'Nombre Completo': ['Edgar', 'Pedro', 'Maria'],\n",
       " 'Fecha Nacimiento': ['1996-08-20', '1989-12-15', '2001-01-18']}"
      ]
     },
     "execution_count": 11,
     "metadata": {},
     "output_type": "execute_result"
    }
   ],
   "source": [
    "## Diccionario de Datos\n",
    "\n",
    "InscritosPBI =  {\n",
    "                \"Codigo Alumno\": [10, 11, 12],\n",
    "                \"Nombre Completo\": [\"Edgar\", \"Pedro\", \"Maria\"], \n",
    "                \"Fecha Nacimiento\": [\"1996-08-20\", \"1989-12-15\", \"2001-01-18\"]\n",
    "                }\n",
    "\n",
    "InscritosPBI"
   ]
  },
  {
   "cell_type": "code",
   "execution_count": 12,
   "metadata": {},
   "outputs": [
    {
     "data": {
      "text/plain": [
       "[[13, 14, 15],\n",
       " ['Jose', 'Esmeralda', 'Angela'],\n",
       " ['1992-08-20', '1999-06-30', '2002-02-20']]"
      ]
     },
     "execution_count": 12,
     "metadata": {},
     "output_type": "execute_result"
    }
   ],
   "source": [
    "# Lista de listas\n",
    "\n",
    "InscritosSQL =  [ \n",
    "                 [13, 14, 15], \n",
    "                 [\"Jose\", \"Esmeralda\", \"Angela\"], \n",
    "                 [\"1992-08-20\", \"1999-06-30\", \"2002-02-20\"]\n",
    "                ]\n",
    "\n",
    "InscritosSQL"
   ]
  },
  {
   "cell_type": "code",
   "execution_count": 13,
   "metadata": {},
   "outputs": [
    {
     "data": {
      "text/html": [
       "<div><style>\n",
       ".dataframe > thead > tr,\n",
       ".dataframe > tbody > tr {\n",
       "  text-align: right;\n",
       "  white-space: pre-wrap;\n",
       "}\n",
       "</style>\n",
       "<small>shape: (3, 3)</small><table border=\"1\" class=\"dataframe\"><thead><tr><th>Codigo Alumno</th><th>Nombre Completo</th><th>Fecha Nacimiento</th></tr><tr><td>i64</td><td>str</td><td>str</td></tr></thead><tbody><tr><td>10</td><td>&quot;Edgar&quot;</td><td>&quot;1996-08-20&quot;</td></tr><tr><td>11</td><td>&quot;Pedro&quot;</td><td>&quot;1989-12-15&quot;</td></tr><tr><td>12</td><td>&quot;Maria&quot;</td><td>&quot;2001-01-18&quot;</td></tr></tbody></table></div>"
      ],
      "text/plain": [
       "shape: (3, 3)\n",
       "┌───────────────┬─────────────────┬──────────────────┐\n",
       "│ Codigo Alumno ┆ Nombre Completo ┆ Fecha Nacimiento │\n",
       "│ ---           ┆ ---             ┆ ---              │\n",
       "│ i64           ┆ str             ┆ str              │\n",
       "╞═══════════════╪═════════════════╪══════════════════╡\n",
       "│ 10            ┆ Edgar           ┆ 1996-08-20       │\n",
       "│ 11            ┆ Pedro           ┆ 1989-12-15       │\n",
       "│ 12            ┆ Maria           ┆ 2001-01-18       │\n",
       "└───────────────┴─────────────────┴──────────────────┘"
      ]
     },
     "execution_count": 13,
     "metadata": {},
     "output_type": "execute_result"
    }
   ],
   "source": [
    "# Crear un dataframe a partir de un Diccionario de datos\n",
    "df1 = pl.DataFrame(InscritosPBI)\n",
    "df1"
   ]
  },
  {
   "cell_type": "code",
   "execution_count": 14,
   "metadata": {},
   "outputs": [
    {
     "data": {
      "text/html": [
       "<div><style>\n",
       ".dataframe > thead > tr,\n",
       ".dataframe > tbody > tr {\n",
       "  text-align: right;\n",
       "  white-space: pre-wrap;\n",
       "}\n",
       "</style>\n",
       "<small>shape: (3, 3)</small><table border=\"1\" class=\"dataframe\"><thead><tr><th>column_0</th><th>column_1</th><th>column_2</th></tr><tr><td>i64</td><td>str</td><td>str</td></tr></thead><tbody><tr><td>13</td><td>&quot;Jose&quot;</td><td>&quot;1992-08-20&quot;</td></tr><tr><td>14</td><td>&quot;Esmeralda&quot;</td><td>&quot;1999-06-30&quot;</td></tr><tr><td>15</td><td>&quot;Angela&quot;</td><td>&quot;2002-02-20&quot;</td></tr></tbody></table></div>"
      ],
      "text/plain": [
       "shape: (3, 3)\n",
       "┌──────────┬───────────┬────────────┐\n",
       "│ column_0 ┆ column_1  ┆ column_2   │\n",
       "│ ---      ┆ ---       ┆ ---        │\n",
       "│ i64      ┆ str       ┆ str        │\n",
       "╞══════════╪═══════════╪════════════╡\n",
       "│ 13       ┆ Jose      ┆ 1992-08-20 │\n",
       "│ 14       ┆ Esmeralda ┆ 1999-06-30 │\n",
       "│ 15       ┆ Angela    ┆ 2002-02-20 │\n",
       "└──────────┴───────────┴────────────┘"
      ]
     },
     "execution_count": 14,
     "metadata": {},
     "output_type": "execute_result"
    }
   ],
   "source": [
    "# Crear un dataframe a partir de una lista de listas\n",
    "df2 = pl.DataFrame(InscritosSQL)\n",
    "df2"
   ]
  },
  {
   "cell_type": "markdown",
   "metadata": {},
   "source": [
    "##### La propiedad **\"schema\"**\n",
    "##### En datasets **con encabezados**, permite definir el tipo de dato de las columnas\n",
    "##### En datasets **sin encabezados**, permite definir el nombre de las columnas\n",
    "\n",
    "> **Observacion:** siempre se deben colocar todas las columnas"
   ]
  },
  {
   "cell_type": "code",
   "execution_count": 15,
   "metadata": {},
   "outputs": [
    {
     "data": {
      "text/html": [
       "<div><style>\n",
       ".dataframe > thead > tr,\n",
       ".dataframe > tbody > tr {\n",
       "  text-align: right;\n",
       "  white-space: pre-wrap;\n",
       "}\n",
       "</style>\n",
       "<small>shape: (3, 3)</small><table border=\"1\" class=\"dataframe\"><thead><tr><th>Codigo Alumno</th><th>Nombre Completo</th><th>Fecha Nacimiento</th></tr><tr><td>i64</td><td>str</td><td>date</td></tr></thead><tbody><tr><td>10</td><td>&quot;Edgar&quot;</td><td>1996-08-20</td></tr><tr><td>11</td><td>&quot;Pedro&quot;</td><td>1989-12-15</td></tr><tr><td>12</td><td>&quot;Maria&quot;</td><td>2001-01-18</td></tr></tbody></table></div>"
      ],
      "text/plain": [
       "shape: (3, 3)\n",
       "┌───────────────┬─────────────────┬──────────────────┐\n",
       "│ Codigo Alumno ┆ Nombre Completo ┆ Fecha Nacimiento │\n",
       "│ ---           ┆ ---             ┆ ---              │\n",
       "│ i64           ┆ str             ┆ date             │\n",
       "╞═══════════════╪═════════════════╪══════════════════╡\n",
       "│ 10            ┆ Edgar           ┆ 1996-08-20       │\n",
       "│ 11            ┆ Pedro           ┆ 1989-12-15       │\n",
       "│ 12            ┆ Maria           ┆ 2001-01-18       │\n",
       "└───────────────┴─────────────────┴──────────────────┘"
      ]
     },
     "execution_count": 15,
     "metadata": {},
     "output_type": "execute_result"
    }
   ],
   "source": [
    "pl.DataFrame(InscritosPBI, schema = {   \n",
    "                                     \"Codigo Alumno\": pl.Int64,\n",
    "                                     \"Nombre Completo\": pl.Utf8, \n",
    "                                     \"Fecha Nacimiento\": pl.Date\n",
    "                                    }\n",
    "             )"
   ]
  },
  {
   "cell_type": "code",
   "execution_count": 16,
   "metadata": {},
   "outputs": [
    {
     "data": {
      "text/html": [
       "<div><style>\n",
       ".dataframe > thead > tr,\n",
       ".dataframe > tbody > tr {\n",
       "  text-align: right;\n",
       "  white-space: pre-wrap;\n",
       "}\n",
       "</style>\n",
       "<small>shape: (3, 3)</small><table border=\"1\" class=\"dataframe\"><thead><tr><th>Codigo Alumno</th><th>Nombre Completo</th><th>Fecha Nacimiento</th></tr><tr><td>i64</td><td>str</td><td>str</td></tr></thead><tbody><tr><td>13</td><td>&quot;Jose&quot;</td><td>&quot;1992-08-20&quot;</td></tr><tr><td>14</td><td>&quot;Esmeralda&quot;</td><td>&quot;1999-06-30&quot;</td></tr><tr><td>15</td><td>&quot;Angela&quot;</td><td>&quot;2002-02-20&quot;</td></tr></tbody></table></div>"
      ],
      "text/plain": [
       "shape: (3, 3)\n",
       "┌───────────────┬─────────────────┬──────────────────┐\n",
       "│ Codigo Alumno ┆ Nombre Completo ┆ Fecha Nacimiento │\n",
       "│ ---           ┆ ---             ┆ ---              │\n",
       "│ i64           ┆ str             ┆ str              │\n",
       "╞═══════════════╪═════════════════╪══════════════════╡\n",
       "│ 13            ┆ Jose            ┆ 1992-08-20       │\n",
       "│ 14            ┆ Esmeralda       ┆ 1999-06-30       │\n",
       "│ 15            ┆ Angela          ┆ 2002-02-20       │\n",
       "└───────────────┴─────────────────┴──────────────────┘"
      ]
     },
     "execution_count": 16,
     "metadata": {},
     "output_type": "execute_result"
    }
   ],
   "source": [
    "pl.DataFrame(InscritosSQL, schema = [   \n",
    "                                     \"Codigo Alumno\",\n",
    "                                     \"Nombre Completo\", \n",
    "                                     \"Fecha Nacimiento\"\n",
    "                                    ]\n",
    "             )"
   ]
  },
  {
   "cell_type": "markdown",
   "metadata": {},
   "source": [
    "##### La propiedad **\"schema_overrides\"** permite indicar el tipo de dato de una o más columnas\n",
    "> **Observacion:** no permite sobreescribir el tipo de dato de una entrada sin encabezado"
   ]
  },
  {
   "cell_type": "code",
   "execution_count": 17,
   "metadata": {},
   "outputs": [
    {
     "data": {
      "text/html": [
       "<div><style>\n",
       ".dataframe > thead > tr,\n",
       ".dataframe > tbody > tr {\n",
       "  text-align: right;\n",
       "  white-space: pre-wrap;\n",
       "}\n",
       "</style>\n",
       "<small>shape: (3, 3)</small><table border=\"1\" class=\"dataframe\"><thead><tr><th>Codigo Alumno</th><th>Nombre Completo</th><th>Fecha Nacimiento</th></tr><tr><td>i64</td><td>str</td><td>date</td></tr></thead><tbody><tr><td>10</td><td>&quot;Edgar&quot;</td><td>1996-08-20</td></tr><tr><td>11</td><td>&quot;Pedro&quot;</td><td>1989-12-15</td></tr><tr><td>12</td><td>&quot;Maria&quot;</td><td>2001-01-18</td></tr></tbody></table></div>"
      ],
      "text/plain": [
       "shape: (3, 3)\n",
       "┌───────────────┬─────────────────┬──────────────────┐\n",
       "│ Codigo Alumno ┆ Nombre Completo ┆ Fecha Nacimiento │\n",
       "│ ---           ┆ ---             ┆ ---              │\n",
       "│ i64           ┆ str             ┆ date             │\n",
       "╞═══════════════╪═════════════════╪══════════════════╡\n",
       "│ 10            ┆ Edgar           ┆ 1996-08-20       │\n",
       "│ 11            ┆ Pedro           ┆ 1989-12-15       │\n",
       "│ 12            ┆ Maria           ┆ 2001-01-18       │\n",
       "└───────────────┴─────────────────┴──────────────────┘"
      ]
     },
     "execution_count": 17,
     "metadata": {},
     "output_type": "execute_result"
    }
   ],
   "source": [
    "pl.DataFrame(InscritosPBI, schema_overrides={\"Fecha Nacimiento\": pl.Date})"
   ]
  },
  {
   "cell_type": "code",
   "execution_count": 22,
   "metadata": {},
   "outputs": [
    {
     "data": {
      "text/html": [
       "<div><style>\n",
       ".dataframe > thead > tr,\n",
       ".dataframe > tbody > tr {\n",
       "  text-align: right;\n",
       "  white-space: pre-wrap;\n",
       "}\n",
       "</style>\n",
       "<small>shape: (3, 3)</small><table border=\"1\" class=\"dataframe\"><thead><tr><th>Codigo Alumno</th><th>Nombre Completo</th><th>Fecha Nacimiento</th></tr><tr><td>i64</td><td>str</td><td>str</td></tr></thead><tbody><tr><td>13</td><td>&quot;Jose&quot;</td><td>&quot;1992-08-20&quot;</td></tr><tr><td>14</td><td>&quot;Esmeralda&quot;</td><td>&quot;1999-06-30&quot;</td></tr><tr><td>15</td><td>&quot;Angela&quot;</td><td>&quot;2002-02-20&quot;</td></tr></tbody></table></div>"
      ],
      "text/plain": [
       "shape: (3, 3)\n",
       "┌───────────────┬─────────────────┬──────────────────┐\n",
       "│ Codigo Alumno ┆ Nombre Completo ┆ Fecha Nacimiento │\n",
       "│ ---           ┆ ---             ┆ ---              │\n",
       "│ i64           ┆ str             ┆ str              │\n",
       "╞═══════════════╪═════════════════╪══════════════════╡\n",
       "│ 13            ┆ Jose            ┆ 1992-08-20       │\n",
       "│ 14            ┆ Esmeralda       ┆ 1999-06-30       │\n",
       "│ 15            ┆ Angela          ┆ 2002-02-20       │\n",
       "└───────────────┴─────────────────┴──────────────────┘"
      ]
     },
     "execution_count": 22,
     "metadata": {},
     "output_type": "execute_result"
    }
   ],
   "source": [
    "pl.DataFrame(InscritosSQL, \n",
    "             schema = [\"Codigo Alumno\", \"Nombre Completo\", \"Fecha Nacimiento\"],\n",
    "             schema_overrides = {\"Fecha Nacimiento\": pl.Date}\n",
    "             )\n"
   ]
  },
  {
   "cell_type": "markdown",
   "metadata": {},
   "source": [
    "#### 2. Análisis de Dataframes"
   ]
  },
  {
   "cell_type": "code",
   "execution_count": 23,
   "metadata": {},
   "outputs": [
    {
     "data": {
      "text/plain": [
       "polars.config.Config"
      ]
     },
     "execution_count": 23,
     "metadata": {},
     "output_type": "execute_result"
    }
   ],
   "source": [
    "import polars as pl\n",
    "# Permite configurar la cantidad de caracteres o dígitos que se mostrarán por columna\n",
    "from polars import Config\n",
    "Config.set_fmt_str_lengths(50)"
   ]
  },
  {
   "cell_type": "code",
   "execution_count": 28,
   "metadata": {},
   "outputs": [
    {
     "data": {
      "text/html": [
       "<div><style>\n",
       ".dataframe > thead > tr,\n",
       ".dataframe > tbody > tr {\n",
       "  text-align: right;\n",
       "  white-space: pre-wrap;\n",
       "}\n",
       "</style>\n",
       "<small>shape: (5, 10)</small><table border=\"1\" class=\"dataframe\"><thead><tr><th>Factura</th><th>ClienteID</th><th>Cliente</th><th>Tienda</th><th>Pais</th><th>Fecha Pedido</th><th>Fecha Entrega</th><th>Producto</th><th>Unidades</th><th>Precio</th></tr><tr><td>i64</td><td>i64</td><td>str</td><td>str</td><td>str</td><td>str</td><td>str</td><td>str</td><td>i64</td><td>f64</td></tr></thead><tbody><tr><td>55275</td><td>30000</td><td>&quot;James McCoy&quot;</td><td>&quot;ModCloth&quot;</td><td>&quot;Canada&quot;</td><td>&quot;2024-01-30&quot;</td><td>&quot;2024-02-06&quot;</td><td>&quot;ML Mountain Frame-W - Silver, 40&quot;</td><td>12</td><td>211.1722</td></tr><tr><td>59064</td><td>30050</td><td>&quot;Krishna Sunkammurali&quot;</td><td>&quot;GameStop&quot;</td><td>&quot;United Kingdom&quot;</td><td>&quot;2024-03-30&quot;</td><td>&quot;2024-04-07&quot;</td><td>&quot;ML Mountain Frame-W - Silver, 40&quot;</td><td>13</td><td>211.1722</td></tr><tr><td>65321</td><td>29487</td><td>&quot;Humberto Acevedo&quot;</td><td>&quot;Amazon&quot;</td><td>&quot;United States&quot;</td><td>&quot;2024-06-29&quot;</td><td>&quot;2024-07-05&quot;</td><td>&quot;ML Mountain Frame-W - Silver, 42&quot;</td><td>1</td><td>218.454</td></tr><tr><td>57066</td><td>29586</td><td>&quot;David Brink&quot;</td><td>&quot;Alibaba&quot;</td><td>&quot;Germany&quot;</td><td>&quot;2024-02-28&quot;</td><td>&quot;2024-03-09&quot;</td><td>&quot;Women&#x27;s Tights, S&quot;</td><td>4</td><td>48.7435</td></tr><tr><td>71691</td><td>29676</td><td>&quot;Peter Connelly&quot;</td><td>&quot;Alibaba&quot;</td><td>&quot;Germany&quot;</td><td>&quot;2024-09-30&quot;</td><td>&quot;2024-10-06&quot;</td><td>&quot;Women&#x27;s Tights, S&quot;</td><td>2</td><td>48.7435</td></tr></tbody></table></div>"
      ],
      "text/plain": [
       "shape: (5, 10)\n",
       "┌─────────┬───────────┬─────────────┬──────────┬───┬────────────┬────────────┬──────────┬──────────┐\n",
       "│ Factura ┆ ClienteID ┆ Cliente     ┆ Tienda   ┆ … ┆ Fecha      ┆ Producto   ┆ Unidades ┆ Precio   │\n",
       "│ ---     ┆ ---       ┆ ---         ┆ ---      ┆   ┆ Entrega    ┆ ---        ┆ ---      ┆ ---      │\n",
       "│ i64     ┆ i64       ┆ str         ┆ str      ┆   ┆ ---        ┆ str        ┆ i64      ┆ f64      │\n",
       "│         ┆           ┆             ┆          ┆   ┆ str        ┆            ┆          ┆          │\n",
       "╞═════════╪═══════════╪═════════════╪══════════╪═══╪════════════╪════════════╪══════════╪══════════╡\n",
       "│ 55275   ┆ 30000     ┆ James McCoy ┆ ModCloth ┆ … ┆ 2024-02-06 ┆ ML         ┆ 12       ┆ 211.1722 │\n",
       "│         ┆           ┆             ┆          ┆   ┆            ┆ Mountain   ┆          ┆          │\n",
       "│         ┆           ┆             ┆          ┆   ┆            ┆ Frame-W -  ┆          ┆          │\n",
       "│         ┆           ┆             ┆          ┆   ┆            ┆ Silver, 40 ┆          ┆          │\n",
       "│ 59064   ┆ 30050     ┆ Krishna Sun ┆ GameStop ┆ … ┆ 2024-04-07 ┆ ML         ┆ 13       ┆ 211.1722 │\n",
       "│         ┆           ┆ kammurali   ┆          ┆   ┆            ┆ Mountain   ┆          ┆          │\n",
       "│         ┆           ┆             ┆          ┆   ┆            ┆ Frame-W -  ┆          ┆          │\n",
       "│         ┆           ┆             ┆          ┆   ┆            ┆ Silver, 40 ┆          ┆          │\n",
       "│ 65321   ┆ 29487     ┆ Humberto    ┆ Amazon   ┆ … ┆ 2024-07-05 ┆ ML         ┆ 1        ┆ 218.454  │\n",
       "│         ┆           ┆ Acevedo     ┆          ┆   ┆            ┆ Mountain   ┆          ┆          │\n",
       "│         ┆           ┆             ┆          ┆   ┆            ┆ Frame-W -  ┆          ┆          │\n",
       "│         ┆           ┆             ┆          ┆   ┆            ┆ Silver, 42 ┆          ┆          │\n",
       "│ 57066   ┆ 29586     ┆ David Brink ┆ Alibaba  ┆ … ┆ 2024-03-09 ┆ Women's    ┆ 4        ┆ 48.7435  │\n",
       "│         ┆           ┆             ┆          ┆   ┆            ┆ Tights, S  ┆          ┆          │\n",
       "│ 71691   ┆ 29676     ┆ Peter       ┆ Alibaba  ┆ … ┆ 2024-10-06 ┆ Women's    ┆ 2        ┆ 48.7435  │\n",
       "│         ┆           ┆ Connelly    ┆          ┆   ┆            ┆ Tights, S  ┆          ┆          │\n",
       "└─────────┴───────────┴─────────────┴──────────┴───┴────────────┴────────────┴──────────┴──────────┘"
      ]
     },
     "execution_count": 28,
     "metadata": {},
     "output_type": "execute_result"
    }
   ],
   "source": [
    "# df = pl.read_csv(r\"C:/Users/yohan/Documents/ELTLessons/1raClase/ReporteVentas.csv\", separator=\";\")\n",
    "df = pl.read_csv('ReporteVentas.csv', separator=';')\n",
    "df.head(5)"
   ]
  },
  {
   "cell_type": "code",
   "execution_count": 25,
   "metadata": {},
   "outputs": [
    {
     "data": {
      "text/plain": [
       "10.89138412475586"
      ]
     },
     "execution_count": 25,
     "metadata": {},
     "output_type": "execute_result"
    }
   ],
   "source": [
    "# ¿Cual es el tamaño del dataframe= ==> {‘b’, ‘kb’, ‘mb’, ‘gb’, ‘tb’}\n",
    "df.estimated_size(\"mb\")"
   ]
  },
  {
   "cell_type": "code",
   "execution_count": 27,
   "metadata": {},
   "outputs": [
    {
     "data": {
      "text/html": [
       "<div><style>\n",
       ".dataframe > thead > tr,\n",
       ".dataframe > tbody > tr {\n",
       "  text-align: right;\n",
       "  white-space: pre-wrap;\n",
       "}\n",
       "</style>\n",
       "<small>shape: (8, 10)</small><table border=\"1\" class=\"dataframe\"><thead><tr><th>Factura</th><th>ClienteID</th><th>Cliente</th><th>Tienda</th><th>Pais</th><th>Fecha Pedido</th><th>Fecha Entrega</th><th>Producto</th><th>Unidades</th><th>Precio</th></tr><tr><td>str</td><td>i64</td><td>str</td><td>str</td><td>str</td><td>date</td><td>date</td><td>str</td><td>i16</td><td>f32</td></tr></thead><tbody><tr><td>&quot;55275&quot;</td><td>30000</td><td>&quot;James McCoy&quot;</td><td>&quot;ModCloth&quot;</td><td>&quot;Canada&quot;</td><td>2024-01-30</td><td>2024-02-06</td><td>&quot;ML Mountain Frame-W - Silver, 40&quot;</td><td>12</td><td>211.172195</td></tr><tr><td>&quot;59064&quot;</td><td>30050</td><td>&quot;Krishna Sunkammurali&quot;</td><td>&quot;GameStop&quot;</td><td>&quot;United Kingdom&quot;</td><td>2024-03-30</td><td>2024-04-07</td><td>&quot;ML Mountain Frame-W - Silver, 40&quot;</td><td>13</td><td>211.172195</td></tr><tr><td>&quot;65321&quot;</td><td>29487</td><td>&quot;Humberto Acevedo&quot;</td><td>&quot;Amazon&quot;</td><td>&quot;United States&quot;</td><td>2024-06-29</td><td>2024-07-05</td><td>&quot;ML Mountain Frame-W - Silver, 42&quot;</td><td>1</td><td>218.453995</td></tr><tr><td>&quot;57066&quot;</td><td>29586</td><td>&quot;David Brink&quot;</td><td>&quot;Alibaba&quot;</td><td>&quot;Germany&quot;</td><td>2024-02-28</td><td>2024-03-09</td><td>&quot;Women&#x27;s Tights, S&quot;</td><td>4</td><td>48.7435</td></tr><tr><td>&quot;71691&quot;</td><td>29676</td><td>&quot;Peter Connelly&quot;</td><td>&quot;Alibaba&quot;</td><td>&quot;Germany&quot;</td><td>2024-09-30</td><td>2024-10-06</td><td>&quot;Women&#x27;s Tights, S&quot;</td><td>2</td><td>48.7435</td></tr><tr><td>&quot;57066&quot;</td><td>29586</td><td>&quot;David Brink&quot;</td><td>&quot;Alibaba&quot;</td><td>&quot;Germany&quot;</td><td>2024-02-28</td><td>2024-03-03</td><td>&quot;Women&#x27;s Tights, L&quot;</td><td>1</td><td>48.7435</td></tr><tr><td>&quot;71940&quot;</td><td>29487</td><td>&quot;Humberto Acevedo&quot;</td><td>&quot;Amazon&quot;</td><td>&quot;United States&quot;</td><td>2024-10-01</td><td>2024-10-04</td><td>&quot;ML Mountain Frame-W - Silver, 46&quot;</td><td>2</td><td>218.453995</td></tr><tr><td>&quot;71884&quot;</td><td>29492</td><td>&quot;Jay Adams&quot;</td><td>&quot;Ebay&quot;</td><td>&quot;United States&quot;</td><td>2024-10-01</td><td>2024-10-07</td><td>&quot;ML Mountain Frame-W - Silver, 40&quot;</td><td>1</td><td>218.453995</td></tr></tbody></table></div>"
      ],
      "text/plain": [
       "shape: (8, 10)\n",
       "┌─────────┬───────────┬────────────┬──────────┬───┬────────────┬────────────┬──────────┬───────────┐\n",
       "│ Factura ┆ ClienteID ┆ Cliente    ┆ Tienda   ┆ … ┆ Fecha      ┆ Producto   ┆ Unidades ┆ Precio    │\n",
       "│ ---     ┆ ---       ┆ ---        ┆ ---      ┆   ┆ Entrega    ┆ ---        ┆ ---      ┆ ---       │\n",
       "│ str     ┆ i64       ┆ str        ┆ str      ┆   ┆ ---        ┆ str        ┆ i16      ┆ f32       │\n",
       "│         ┆           ┆            ┆          ┆   ┆ date       ┆            ┆          ┆           │\n",
       "╞═════════╪═══════════╪════════════╪══════════╪═══╪════════════╪════════════╪══════════╪═══════════╡\n",
       "│ 55275   ┆ 30000     ┆ James      ┆ ModCloth ┆ … ┆ 2024-02-06 ┆ ML         ┆ 12       ┆ 211.17219 │\n",
       "│         ┆           ┆ McCoy      ┆          ┆   ┆            ┆ Mountain   ┆          ┆ 5         │\n",
       "│         ┆           ┆            ┆          ┆   ┆            ┆ Frame-W -  ┆          ┆           │\n",
       "│         ┆           ┆            ┆          ┆   ┆            ┆ Silver, 40 ┆          ┆           │\n",
       "│ 59064   ┆ 30050     ┆ Krishna    ┆ GameStop ┆ … ┆ 2024-04-07 ┆ ML         ┆ 13       ┆ 211.17219 │\n",
       "│         ┆           ┆ Sunkammura ┆          ┆   ┆            ┆ Mountain   ┆          ┆ 5         │\n",
       "│         ┆           ┆ li         ┆          ┆   ┆            ┆ Frame-W -  ┆          ┆           │\n",
       "│         ┆           ┆            ┆          ┆   ┆            ┆ Silver, 40 ┆          ┆           │\n",
       "│ 65321   ┆ 29487     ┆ Humberto   ┆ Amazon   ┆ … ┆ 2024-07-05 ┆ ML         ┆ 1        ┆ 218.45399 │\n",
       "│         ┆           ┆ Acevedo    ┆          ┆   ┆            ┆ Mountain   ┆          ┆ 5         │\n",
       "│         ┆           ┆            ┆          ┆   ┆            ┆ Frame-W -  ┆          ┆           │\n",
       "│         ┆           ┆            ┆          ┆   ┆            ┆ Silver, 42 ┆          ┆           │\n",
       "│ 57066   ┆ 29586     ┆ David      ┆ Alibaba  ┆ … ┆ 2024-03-09 ┆ Women's    ┆ 4        ┆ 48.7435   │\n",
       "│         ┆           ┆ Brink      ┆          ┆   ┆            ┆ Tights, S  ┆          ┆           │\n",
       "│ 71691   ┆ 29676     ┆ Peter      ┆ Alibaba  ┆ … ┆ 2024-10-06 ┆ Women's    ┆ 2        ┆ 48.7435   │\n",
       "│         ┆           ┆ Connelly   ┆          ┆   ┆            ┆ Tights, S  ┆          ┆           │\n",
       "│ 57066   ┆ 29586     ┆ David      ┆ Alibaba  ┆ … ┆ 2024-03-03 ┆ Women's    ┆ 1        ┆ 48.7435   │\n",
       "│         ┆           ┆ Brink      ┆          ┆   ┆            ┆ Tights, L  ┆          ┆           │\n",
       "│ 71940   ┆ 29487     ┆ Humberto   ┆ Amazon   ┆ … ┆ 2024-10-04 ┆ ML         ┆ 2        ┆ 218.45399 │\n",
       "│         ┆           ┆ Acevedo    ┆          ┆   ┆            ┆ Mountain   ┆          ┆ 5         │\n",
       "│         ┆           ┆            ┆          ┆   ┆            ┆ Frame-W -  ┆          ┆           │\n",
       "│         ┆           ┆            ┆          ┆   ┆            ┆ Silver, 46 ┆          ┆           │\n",
       "│ 71884   ┆ 29492     ┆ Jay Adams  ┆ Ebay     ┆ … ┆ 2024-10-07 ┆ ML         ┆ 1        ┆ 218.45399 │\n",
       "│         ┆           ┆            ┆          ┆   ┆            ┆ Mountain   ┆          ┆ 5         │\n",
       "│         ┆           ┆            ┆          ┆   ┆            ┆ Frame-W -  ┆          ┆           │\n",
       "│         ┆           ┆            ┆          ┆   ┆            ┆ Silver, 40 ┆          ┆           │\n",
       "└─────────┴───────────┴────────────┴──────────┴───┴────────────┴────────────┴──────────┴───────────┘"
      ]
     },
     "execution_count": 27,
     "metadata": {},
     "output_type": "execute_result"
    }
   ],
   "source": [
    "# Cambiar el tipo de dato de las columnas\n",
    "df = df.cast({\"Factura\": pl.Utf8, \"Fecha Pedido\": pl.Date, \"Fecha Entrega\": pl.Date, \"Unidades\": pl.Int16, \"Precio\": pl.Float32})\n",
    "df.head(8)"
   ]
  },
  {
   "cell_type": "code",
   "execution_count": 26,
   "metadata": {},
   "outputs": [
    {
     "data": {
      "text/plain": [
       "10.89138412475586"
      ]
     },
     "execution_count": 26,
     "metadata": {},
     "output_type": "execute_result"
    }
   ],
   "source": [
    "# La importancia de asignar el tipo de dato correcto\n",
    "df.estimated_size(\"mb\")"
   ]
  },
  {
   "cell_type": "markdown",
   "metadata": {},
   "source": [
    "##### 2.1 Atributos de un Dataframe"
   ]
  },
  {
   "cell_type": "code",
   "execution_count": 29,
   "metadata": {},
   "outputs": [
    {
     "data": {
      "text/plain": [
       "['Factura',\n",
       " 'ClienteID',\n",
       " 'Cliente',\n",
       " 'Tienda',\n",
       " 'Pais',\n",
       " 'Fecha Pedido',\n",
       " 'Fecha Entrega',\n",
       " 'Producto',\n",
       " 'Unidades',\n",
       " 'Precio']"
      ]
     },
     "execution_count": 29,
     "metadata": {},
     "output_type": "execute_result"
    }
   ],
   "source": [
    "## Obtener el nombre de las columnas del dataframe\n",
    "df.columns"
   ]
  },
  {
   "cell_type": "code",
   "execution_count": 30,
   "metadata": {},
   "outputs": [
    {
     "data": {
      "text/plain": [
       "[Int64, Int64, String, String, String, String, String, String, Int64, Float64]"
      ]
     },
     "execution_count": 30,
     "metadata": {},
     "output_type": "execute_result"
    }
   ],
   "source": [
    "## Obtener el tipo de dato de las columnas del dataframe\n",
    "df.dtypes"
   ]
  },
  {
   "cell_type": "code",
   "execution_count": 32,
   "metadata": {},
   "outputs": [
    {
     "data": {
      "text/plain": [
       "OrderedDict([('Factura', Int64),\n",
       "             ('ClienteID', Int64),\n",
       "             ('Cliente', String),\n",
       "             ('Tienda', String),\n",
       "             ('Pais', String),\n",
       "             ('Fecha Pedido', String),\n",
       "             ('Fecha Entrega', String),\n",
       "             ('Producto', String),\n",
       "             ('Unidades', Int64),\n",
       "             ('Precio', Float64)])"
      ]
     },
     "execution_count": 32,
     "metadata": {},
     "output_type": "execute_result"
    }
   ],
   "source": [
    "## Obtener el esquema o metadata del dataframe\n",
    "df.schema"
   ]
  },
  {
   "cell_type": "code",
   "execution_count": 33,
   "metadata": {},
   "outputs": [
    {
     "name": "stdout",
     "output_type": "stream",
     "text": [
      "Filas:  70723\n",
      "Columnas:  10\n",
      "Dimensión: (70723, 10)\n"
     ]
    }
   ],
   "source": [
    "## Obtener la cantidad de filas de un dataframe\n",
    "print(\"Filas: \", df.height)\n",
    "\n",
    "## Obtener la cantidad de columnas de un dataframe\n",
    "print(\"Columnas: \", df.width)\n",
    "\n",
    "## Obtener la dimensión de un dataframe\n",
    "print(\"Dimensión:\", df.shape)"
   ]
  },
  {
   "cell_type": "code",
   "execution_count": 34,
   "metadata": {},
   "outputs": [
    {
     "data": {
      "text/plain": [
       "{'Factura': {'SORTED_ASC': False, 'SORTED_DESC': False},\n",
       " 'ClienteID': {'SORTED_ASC': False, 'SORTED_DESC': False},\n",
       " 'Cliente': {'SORTED_ASC': False, 'SORTED_DESC': False},\n",
       " 'Tienda': {'SORTED_ASC': False, 'SORTED_DESC': False},\n",
       " 'Pais': {'SORTED_ASC': False, 'SORTED_DESC': False},\n",
       " 'Fecha Pedido': {'SORTED_ASC': False, 'SORTED_DESC': False},\n",
       " 'Fecha Entrega': {'SORTED_ASC': False, 'SORTED_DESC': False},\n",
       " 'Producto': {'SORTED_ASC': False, 'SORTED_DESC': False},\n",
       " 'Unidades': {'SORTED_ASC': False, 'SORTED_DESC': False},\n",
       " 'Precio': {'SORTED_ASC': False, 'SORTED_DESC': False}}"
      ]
     },
     "execution_count": 34,
     "metadata": {},
     "output_type": "execute_result"
    }
   ],
   "source": [
    "## Muestra las operaciones de ordenamiento aplicadas al Dataframe\n",
    "df.flags"
   ]
  },
  {
   "cell_type": "code",
   "execution_count": 35,
   "metadata": {},
   "outputs": [
    {
     "data": {
      "text/html": [
       "<div><style>\n",
       ".dataframe > thead > tr,\n",
       ".dataframe > tbody > tr {\n",
       "  text-align: right;\n",
       "  white-space: pre-wrap;\n",
       "}\n",
       "</style>\n",
       "<small>shape: (5, 10)</small><table border=\"1\" class=\"dataframe\"><thead><tr><th>Factura</th><th>ClienteID</th><th>Cliente</th><th>Tienda</th><th>Pais</th><th>Fecha Pedido</th><th>Fecha Entrega</th><th>Producto</th><th>Unidades</th><th>Precio</th></tr><tr><td>i64</td><td>i64</td><td>str</td><td>str</td><td>str</td><td>str</td><td>str</td><td>str</td><td>i64</td><td>f64</td></tr></thead><tbody><tr><td>75117</td><td>18178</td><td>&quot;Tracy Goel&quot;</td><td>&quot;GameStop&quot;</td><td>&quot;United Kingdom&quot;</td><td>&quot;2024-11-30&quot;</td><td>null</td><td>&quot;Half-Finger Gloves, L&quot;</td><td>1</td><td>24.49</td></tr><tr><td>75115</td><td>26832</td><td>&quot;Kate Xie&quot;</td><td>&quot;Alibaba&quot;</td><td>&quot;Germany&quot;</td><td>&quot;2024-11-30&quot;</td><td>null</td><td>&quot;LL Road Tire&quot;</td><td>1</td><td>21.49</td></tr><tr><td>75092</td><td>26564</td><td>&quot;Franklin Chen&quot;</td><td>&quot;BestBuy&quot;</td><td>&quot;Australia&quot;</td><td>&quot;2024-11-30&quot;</td><td>null</td><td>&quot;LL Road Tire&quot;</td><td>1</td><td>21.49</td></tr><tr><td>75106</td><td>14474</td><td>&quot;Jacqueline Murphy&quot;</td><td>&quot;Mr Porter&quot;</td><td>&quot;United States&quot;</td><td>&quot;2024-11-30&quot;</td><td>null</td><td>&quot;Mountain Tire Tube&quot;</td><td>1</td><td>4.99</td></tr><tr><td>75097</td><td>21717</td><td>&quot;Angel King&quot;</td><td>&quot;Mr Porter&quot;</td><td>&quot;United States&quot;</td><td>&quot;2024-11-30&quot;</td><td>null</td><td>&quot;Sport-100 Helmet, Black&quot;</td><td>1</td><td>34.99</td></tr></tbody></table></div>"
      ],
      "text/plain": [
       "shape: (5, 10)\n",
       "┌─────────┬───────────┬───────────────┬───────────┬───┬─────────┬──────────────┬──────────┬────────┐\n",
       "│ Factura ┆ ClienteID ┆ Cliente       ┆ Tienda    ┆ … ┆ Fecha   ┆ Producto     ┆ Unidades ┆ Precio │\n",
       "│ ---     ┆ ---       ┆ ---           ┆ ---       ┆   ┆ Entrega ┆ ---          ┆ ---      ┆ ---    │\n",
       "│ i64     ┆ i64       ┆ str           ┆ str       ┆   ┆ ---     ┆ str          ┆ i64      ┆ f64    │\n",
       "│         ┆           ┆               ┆           ┆   ┆ str     ┆              ┆          ┆        │\n",
       "╞═════════╪═══════════╪═══════════════╪═══════════╪═══╪═════════╪══════════════╪══════════╪════════╡\n",
       "│ 75117   ┆ 18178     ┆ Tracy Goel    ┆ GameStop  ┆ … ┆ null    ┆ Half-Finger  ┆ 1        ┆ 24.49  │\n",
       "│         ┆           ┆               ┆           ┆   ┆         ┆ Gloves, L    ┆          ┆        │\n",
       "│ 75115   ┆ 26832     ┆ Kate Xie      ┆ Alibaba   ┆ … ┆ null    ┆ LL Road Tire ┆ 1        ┆ 21.49  │\n",
       "│ 75092   ┆ 26564     ┆ Franklin Chen ┆ BestBuy   ┆ … ┆ null    ┆ LL Road Tire ┆ 1        ┆ 21.49  │\n",
       "│ 75106   ┆ 14474     ┆ Jacqueline    ┆ Mr Porter ┆ … ┆ null    ┆ Mountain     ┆ 1        ┆ 4.99   │\n",
       "│         ┆           ┆ Murphy        ┆           ┆   ┆         ┆ Tire Tube    ┆          ┆        │\n",
       "│ 75097   ┆ 21717     ┆ Angel King    ┆ Mr Porter ┆ … ┆ null    ┆ Sport-100    ┆ 1        ┆ 34.99  │\n",
       "│         ┆           ┆               ┆           ┆   ┆         ┆ Helmet,      ┆          ┆        │\n",
       "│         ┆           ┆               ┆           ┆   ┆         ┆ Black        ┆          ┆        │\n",
       "└─────────┴───────────┴───────────────┴───────────┴───┴─────────┴──────────────┴──────────┴────────┘"
      ]
     },
     "execution_count": 35,
     "metadata": {},
     "output_type": "execute_result"
    }
   ],
   "source": [
    "## Ordenar un Dataframe a partir de una columna\n",
    "df.sort(\"Fecha Pedido\", descending = False).head()\n",
    "\n",
    "df.sort(\"Fecha Entrega\", descending = True, nulls_last = False).head()"
   ]
  },
  {
   "cell_type": "code",
   "execution_count": null,
   "metadata": {},
   "outputs": [],
   "source": [
    "## Ordenar un Dataframe a partir de una o más columnas\n",
    "df.sort([\"Fecha Pedido\", \"Fecha Entrega\"], descending = [False, True]).head(10)\n"
   ]
  },
  {
   "cell_type": "markdown",
   "metadata": {},
   "source": [
    "#### 3. Contextos y Expresiones"
   ]
  },
  {
   "cell_type": "code",
   "execution_count": 36,
   "metadata": {},
   "outputs": [],
   "source": [
    "import polars as pl\n",
    "# Permite configurar la cantidad de caracteres o dígitos que se mostrarán por columna\n",
    "from polars import Config"
   ]
  },
  {
   "cell_type": "code",
   "execution_count": 37,
   "metadata": {},
   "outputs": [
    {
     "data": {
      "text/html": [
       "<div><style>\n",
       ".dataframe > thead > tr,\n",
       ".dataframe > tbody > tr {\n",
       "  text-align: right;\n",
       "  white-space: pre-wrap;\n",
       "}\n",
       "</style>\n",
       "<small>shape: (5, 10)</small><table border=\"1\" class=\"dataframe\"><thead><tr><th>Factura</th><th>ClienteID</th><th>Cliente</th><th>Tienda</th><th>Pais</th><th>Fecha Pedido</th><th>Fecha Entrega</th><th>Producto</th><th>Unidades</th><th>Precio</th></tr><tr><td>str</td><td>i64</td><td>str</td><td>str</td><td>str</td><td>date</td><td>date</td><td>str</td><td>i16</td><td>f32</td></tr></thead><tbody><tr><td>&quot;55275&quot;</td><td>30000</td><td>&quot;James McCoy&quot;</td><td>&quot;ModCloth&quot;</td><td>&quot;Canada&quot;</td><td>2024-01-30</td><td>2024-02-06</td><td>&quot;ML Mountain Frame-W - Silver, 40&quot;</td><td>12</td><td>211.172195</td></tr><tr><td>&quot;59064&quot;</td><td>30050</td><td>&quot;Krishna Sunkammurali&quot;</td><td>&quot;GameStop&quot;</td><td>&quot;United Kingdom&quot;</td><td>2024-03-30</td><td>2024-04-07</td><td>&quot;ML Mountain Frame-W - Silver, 40&quot;</td><td>13</td><td>211.172195</td></tr><tr><td>&quot;65321&quot;</td><td>29487</td><td>&quot;Humberto Acevedo&quot;</td><td>&quot;Amazon&quot;</td><td>&quot;United States&quot;</td><td>2024-06-29</td><td>2024-07-05</td><td>&quot;ML Mountain Frame-W - Silver, 42&quot;</td><td>1</td><td>218.453995</td></tr><tr><td>&quot;57066&quot;</td><td>29586</td><td>&quot;David Brink&quot;</td><td>&quot;Alibaba&quot;</td><td>&quot;Germany&quot;</td><td>2024-02-28</td><td>2024-03-09</td><td>&quot;Women&#x27;s Tights, S&quot;</td><td>4</td><td>48.7435</td></tr><tr><td>&quot;71691&quot;</td><td>29676</td><td>&quot;Peter Connelly&quot;</td><td>&quot;Alibaba&quot;</td><td>&quot;Germany&quot;</td><td>2024-09-30</td><td>2024-10-06</td><td>&quot;Women&#x27;s Tights, S&quot;</td><td>2</td><td>48.7435</td></tr></tbody></table></div>"
      ],
      "text/plain": [
       "shape: (5, 10)\n",
       "┌─────────┬───────────┬────────────┬──────────┬───┬────────────┬────────────┬──────────┬───────────┐\n",
       "│ Factura ┆ ClienteID ┆ Cliente    ┆ Tienda   ┆ … ┆ Fecha      ┆ Producto   ┆ Unidades ┆ Precio    │\n",
       "│ ---     ┆ ---       ┆ ---        ┆ ---      ┆   ┆ Entrega    ┆ ---        ┆ ---      ┆ ---       │\n",
       "│ str     ┆ i64       ┆ str        ┆ str      ┆   ┆ ---        ┆ str        ┆ i16      ┆ f32       │\n",
       "│         ┆           ┆            ┆          ┆   ┆ date       ┆            ┆          ┆           │\n",
       "╞═════════╪═══════════╪════════════╪══════════╪═══╪════════════╪════════════╪══════════╪═══════════╡\n",
       "│ 55275   ┆ 30000     ┆ James      ┆ ModCloth ┆ … ┆ 2024-02-06 ┆ ML         ┆ 12       ┆ 211.17219 │\n",
       "│         ┆           ┆ McCoy      ┆          ┆   ┆            ┆ Mountain   ┆          ┆ 5         │\n",
       "│         ┆           ┆            ┆          ┆   ┆            ┆ Frame-W -  ┆          ┆           │\n",
       "│         ┆           ┆            ┆          ┆   ┆            ┆ Silver, 40 ┆          ┆           │\n",
       "│ 59064   ┆ 30050     ┆ Krishna    ┆ GameStop ┆ … ┆ 2024-04-07 ┆ ML         ┆ 13       ┆ 211.17219 │\n",
       "│         ┆           ┆ Sunkammura ┆          ┆   ┆            ┆ Mountain   ┆          ┆ 5         │\n",
       "│         ┆           ┆ li         ┆          ┆   ┆            ┆ Frame-W -  ┆          ┆           │\n",
       "│         ┆           ┆            ┆          ┆   ┆            ┆ Silver, 40 ┆          ┆           │\n",
       "│ 65321   ┆ 29487     ┆ Humberto   ┆ Amazon   ┆ … ┆ 2024-07-05 ┆ ML         ┆ 1        ┆ 218.45399 │\n",
       "│         ┆           ┆ Acevedo    ┆          ┆   ┆            ┆ Mountain   ┆          ┆ 5         │\n",
       "│         ┆           ┆            ┆          ┆   ┆            ┆ Frame-W -  ┆          ┆           │\n",
       "│         ┆           ┆            ┆          ┆   ┆            ┆ Silver, 42 ┆          ┆           │\n",
       "│ 57066   ┆ 29586     ┆ David      ┆ Alibaba  ┆ … ┆ 2024-03-09 ┆ Women's    ┆ 4        ┆ 48.7435   │\n",
       "│         ┆           ┆ Brink      ┆          ┆   ┆            ┆ Tights, S  ┆          ┆           │\n",
       "│ 71691   ┆ 29676     ┆ Peter      ┆ Alibaba  ┆ … ┆ 2024-10-06 ┆ Women's    ┆ 2        ┆ 48.7435   │\n",
       "│         ┆           ┆ Connelly   ┆          ┆   ┆            ┆ Tights, S  ┆          ┆           │\n",
       "└─────────┴───────────┴────────────┴──────────┴───┴────────────┴────────────┴──────────┴───────────┘"
      ]
     },
     "execution_count": 37,
     "metadata": {},
     "output_type": "execute_result"
    }
   ],
   "source": [
    "df = pl.read_csv(r\"C:/Users/yohan/Documents/ELTLessons/1raClase/ReporteVentas.csv\", separator=\";\")\n",
    "\n",
    "df = df.cast({\"Factura\": pl.Utf8, \"Fecha Pedido\": pl.Date, \"Fecha Entrega\": pl.Date, \"Unidades\": pl.Int16, \"Precio\": pl.Float32})\n",
    "\n",
    "df.head(5)"
   ]
  },
  {
   "cell_type": "code",
   "execution_count": 3,
   "metadata": {},
   "outputs": [
    {
     "data": {
      "text/html": [
       "<div><style>\n",
       ".dataframe > thead > tr,\n",
       ".dataframe > tbody > tr {\n",
       "  text-align: right;\n",
       "  white-space: pre-wrap;\n",
       "}\n",
       "</style>\n",
       "<small>shape: (5, 10)</small><table border=\"1\" class=\"dataframe\"><thead><tr><th>Factura</th><th>ClienteID</th><th>Cliente</th><th>Tienda</th><th>Pais</th><th>Fecha Pedido</th><th>Fecha Entrega</th><th>Producto</th><th>Unidades</th><th>Precio</th></tr><tr><td>str</td><td>i64</td><td>str</td><td>str</td><td>str</td><td>date</td><td>date</td><td>str</td><td>i16</td><td>f32</td></tr></thead><tbody><tr><td>&quot;55275&quot;</td><td>30000</td><td>&quot;James McCoy&quot;</td><td>&quot;ModCloth&quot;</td><td>&quot;Canada&quot;</td><td>2024-01-30</td><td>2024-02-06</td><td>&quot;ML Mountain Frame-W - Silver, 40&quot;</td><td>12</td><td>211.172195</td></tr><tr><td>&quot;59064&quot;</td><td>30050</td><td>&quot;Krishna Sunkammurali&quot;</td><td>&quot;GameStop&quot;</td><td>&quot;United Kingdom&quot;</td><td>2024-03-30</td><td>2024-04-07</td><td>&quot;ML Mountain Frame-W - Silver, 40&quot;</td><td>13</td><td>211.172195</td></tr><tr><td>&quot;65321&quot;</td><td>29487</td><td>&quot;Humberto Acevedo&quot;</td><td>&quot;Amazon&quot;</td><td>&quot;United States&quot;</td><td>2024-06-29</td><td>2024-07-05</td><td>&quot;ML Mountain Frame-W - Silver, 42&quot;</td><td>1</td><td>218.453995</td></tr><tr><td>&quot;57066&quot;</td><td>29586</td><td>&quot;David Brink&quot;</td><td>&quot;Alibaba&quot;</td><td>&quot;Germany&quot;</td><td>2024-02-28</td><td>2024-03-09</td><td>&quot;Women&#x27;s Tights, S&quot;</td><td>4</td><td>48.7435</td></tr><tr><td>&quot;71691&quot;</td><td>29676</td><td>&quot;Peter Connelly&quot;</td><td>&quot;Alibaba&quot;</td><td>&quot;Germany&quot;</td><td>2024-09-30</td><td>2024-10-06</td><td>&quot;Women&#x27;s Tights, S&quot;</td><td>2</td><td>48.7435</td></tr></tbody></table></div>"
      ],
      "text/plain": [
       "shape: (5, 10)\n",
       "┌─────────┬───────────┬────────────┬──────────┬───┬────────────┬────────────┬──────────┬───────────┐\n",
       "│ Factura ┆ ClienteID ┆ Cliente    ┆ Tienda   ┆ … ┆ Fecha      ┆ Producto   ┆ Unidades ┆ Precio    │\n",
       "│ ---     ┆ ---       ┆ ---        ┆ ---      ┆   ┆ Entrega    ┆ ---        ┆ ---      ┆ ---       │\n",
       "│ str     ┆ i64       ┆ str        ┆ str      ┆   ┆ ---        ┆ str        ┆ i16      ┆ f32       │\n",
       "│         ┆           ┆            ┆          ┆   ┆ date       ┆            ┆          ┆           │\n",
       "╞═════════╪═══════════╪════════════╪══════════╪═══╪════════════╪════════════╪══════════╪═══════════╡\n",
       "│ 55275   ┆ 30000     ┆ James      ┆ ModCloth ┆ … ┆ 2024-02-06 ┆ ML         ┆ 12       ┆ 211.17219 │\n",
       "│         ┆           ┆ McCoy      ┆          ┆   ┆            ┆ Mountain   ┆          ┆ 5         │\n",
       "│         ┆           ┆            ┆          ┆   ┆            ┆ Frame-W -  ┆          ┆           │\n",
       "│         ┆           ┆            ┆          ┆   ┆            ┆ Silver, 40 ┆          ┆           │\n",
       "│ 59064   ┆ 30050     ┆ Krishna    ┆ GameStop ┆ … ┆ 2024-04-07 ┆ ML         ┆ 13       ┆ 211.17219 │\n",
       "│         ┆           ┆ Sunkammura ┆          ┆   ┆            ┆ Mountain   ┆          ┆ 5         │\n",
       "│         ┆           ┆ li         ┆          ┆   ┆            ┆ Frame-W -  ┆          ┆           │\n",
       "│         ┆           ┆            ┆          ┆   ┆            ┆ Silver, 40 ┆          ┆           │\n",
       "│ 65321   ┆ 29487     ┆ Humberto   ┆ Amazon   ┆ … ┆ 2024-07-05 ┆ ML         ┆ 1        ┆ 218.45399 │\n",
       "│         ┆           ┆ Acevedo    ┆          ┆   ┆            ┆ Mountain   ┆          ┆ 5         │\n",
       "│         ┆           ┆            ┆          ┆   ┆            ┆ Frame-W -  ┆          ┆           │\n",
       "│         ┆           ┆            ┆          ┆   ┆            ┆ Silver, 42 ┆          ┆           │\n",
       "│ 57066   ┆ 29586     ┆ David      ┆ Alibaba  ┆ … ┆ 2024-03-09 ┆ Women's    ┆ 4        ┆ 48.7435   │\n",
       "│         ┆           ┆ Brink      ┆          ┆   ┆            ┆ Tights, S  ┆          ┆           │\n",
       "│ 71691   ┆ 29676     ┆ Peter      ┆ Alibaba  ┆ … ┆ 2024-10-06 ┆ Women's    ┆ 2        ┆ 48.7435   │\n",
       "│         ┆           ┆ Connelly   ┆          ┆   ┆            ┆ Tights, S  ┆          ┆           │\n",
       "└─────────┴───────────┴────────────┴──────────┴───┴────────────┴────────────┴──────────┴───────────┘"
      ]
     },
     "execution_count": 3,
     "metadata": {},
     "output_type": "execute_result"
    }
   ],
   "source": [
    "# Configurar para que las columnas de texto muestren 50 caracteres\n",
    "Config.set_fmt_str_lengths(50)\n",
    "\n",
    "df.head()"
   ]
  },
  {
   "cell_type": "markdown",
   "metadata": {},
   "source": [
    "##### 3.1 Selección de Columnas"
   ]
  },
  {
   "cell_type": "code",
   "execution_count": 4,
   "metadata": {},
   "outputs": [
    {
     "data": {
      "text/html": [
       "<div><style>\n",
       ".dataframe > thead > tr,\n",
       ".dataframe > tbody > tr {\n",
       "  text-align: right;\n",
       "  white-space: pre-wrap;\n",
       "}\n",
       "</style>\n",
       "<small>shape: (5, 1)</small><table border=\"1\" class=\"dataframe\"><thead><tr><th>Factura</th></tr><tr><td>str</td></tr></thead><tbody><tr><td>&quot;55275&quot;</td></tr><tr><td>&quot;59064&quot;</td></tr><tr><td>&quot;65321&quot;</td></tr><tr><td>&quot;57066&quot;</td></tr><tr><td>&quot;71691&quot;</td></tr></tbody></table></div>"
      ],
      "text/plain": [
       "shape: (5, 1)\n",
       "┌─────────┐\n",
       "│ Factura │\n",
       "│ ---     │\n",
       "│ str     │\n",
       "╞═════════╡\n",
       "│ 55275   │\n",
       "│ 59064   │\n",
       "│ 65321   │\n",
       "│ 57066   │\n",
       "│ 71691   │\n",
       "└─────────┘"
      ]
     },
     "execution_count": 4,
     "metadata": {},
     "output_type": "execute_result"
    }
   ],
   "source": [
    "# Selección de una columna usando el nombre directo\n",
    "df.select(\"Factura\").head(5)"
   ]
  },
  {
   "cell_type": "code",
   "execution_count": 5,
   "metadata": {},
   "outputs": [
    {
     "data": {
      "text/html": [
       "<div><style>\n",
       ".dataframe > thead > tr,\n",
       ".dataframe > tbody > tr {\n",
       "  text-align: right;\n",
       "  white-space: pre-wrap;\n",
       "}\n",
       "</style>\n",
       "<small>shape: (5, 1)</small><table border=\"1\" class=\"dataframe\"><thead><tr><th>Factura</th></tr><tr><td>str</td></tr></thead><tbody><tr><td>&quot;55275&quot;</td></tr><tr><td>&quot;59064&quot;</td></tr><tr><td>&quot;65321&quot;</td></tr><tr><td>&quot;57066&quot;</td></tr><tr><td>&quot;71691&quot;</td></tr></tbody></table></div>"
      ],
      "text/plain": [
       "shape: (5, 1)\n",
       "┌─────────┐\n",
       "│ Factura │\n",
       "│ ---     │\n",
       "│ str     │\n",
       "╞═════════╡\n",
       "│ 55275   │\n",
       "│ 59064   │\n",
       "│ 65321   │\n",
       "│ 57066   │\n",
       "│ 71691   │\n",
       "└─────────┘"
      ]
     },
     "execution_count": 5,
     "metadata": {},
     "output_type": "execute_result"
    }
   ],
   "source": [
    "# Selección de una columna usaando la función col\n",
    "df.select(pl.col(\"Factura\")).head(5)"
   ]
  },
  {
   "cell_type": "code",
   "execution_count": 6,
   "metadata": {},
   "outputs": [
    {
     "data": {
      "text/html": [
       "<div><style>\n",
       ".dataframe > thead > tr,\n",
       ".dataframe > tbody > tr {\n",
       "  text-align: right;\n",
       "  white-space: pre-wrap;\n",
       "}\n",
       "</style>\n",
       "<small>shape: (5, 8)</small><table border=\"1\" class=\"dataframe\"><thead><tr><th>Factura</th><th>Cliente</th><th>Tienda</th><th>Fecha Pedido</th><th>Fecha Entrega</th><th>Producto</th><th>Unidades</th><th>Precio</th></tr><tr><td>str</td><td>str</td><td>str</td><td>date</td><td>date</td><td>str</td><td>i16</td><td>f32</td></tr></thead><tbody><tr><td>&quot;55275&quot;</td><td>&quot;James McCoy&quot;</td><td>&quot;ModCloth&quot;</td><td>2024-01-30</td><td>2024-02-06</td><td>&quot;ML Mountain Frame-W - Silver, 40&quot;</td><td>12</td><td>211.172195</td></tr><tr><td>&quot;59064&quot;</td><td>&quot;Krishna Sunkammurali&quot;</td><td>&quot;GameStop&quot;</td><td>2024-03-30</td><td>2024-04-07</td><td>&quot;ML Mountain Frame-W - Silver, 40&quot;</td><td>13</td><td>211.172195</td></tr><tr><td>&quot;65321&quot;</td><td>&quot;Humberto Acevedo&quot;</td><td>&quot;Amazon&quot;</td><td>2024-06-29</td><td>2024-07-05</td><td>&quot;ML Mountain Frame-W - Silver, 42&quot;</td><td>1</td><td>218.453995</td></tr><tr><td>&quot;57066&quot;</td><td>&quot;David Brink&quot;</td><td>&quot;Alibaba&quot;</td><td>2024-02-28</td><td>2024-03-09</td><td>&quot;Women&#x27;s Tights, S&quot;</td><td>4</td><td>48.7435</td></tr><tr><td>&quot;71691&quot;</td><td>&quot;Peter Connelly&quot;</td><td>&quot;Alibaba&quot;</td><td>2024-09-30</td><td>2024-10-06</td><td>&quot;Women&#x27;s Tights, S&quot;</td><td>2</td><td>48.7435</td></tr></tbody></table></div>"
      ],
      "text/plain": [
       "shape: (5, 8)\n",
       "┌─────────┬─────────────┬──────────┬─────────────┬────────────┬────────────┬──────────┬────────────┐\n",
       "│ Factura ┆ Cliente     ┆ Tienda   ┆ Fecha       ┆ Fecha      ┆ Producto   ┆ Unidades ┆ Precio     │\n",
       "│ ---     ┆ ---         ┆ ---      ┆ Pedido      ┆ Entrega    ┆ ---        ┆ ---      ┆ ---        │\n",
       "│ str     ┆ str         ┆ str      ┆ ---         ┆ ---        ┆ str        ┆ i16      ┆ f32        │\n",
       "│         ┆             ┆          ┆ date        ┆ date       ┆            ┆          ┆            │\n",
       "╞═════════╪═════════════╪══════════╪═════════════╪════════════╪════════════╪══════════╪════════════╡\n",
       "│ 55275   ┆ James McCoy ┆ ModCloth ┆ 2024-01-30  ┆ 2024-02-06 ┆ ML         ┆ 12       ┆ 211.172195 │\n",
       "│         ┆             ┆          ┆             ┆            ┆ Mountain   ┆          ┆            │\n",
       "│         ┆             ┆          ┆             ┆            ┆ Frame-W -  ┆          ┆            │\n",
       "│         ┆             ┆          ┆             ┆            ┆ Silver, 40 ┆          ┆            │\n",
       "│ 59064   ┆ Krishna Sun ┆ GameStop ┆ 2024-03-30  ┆ 2024-04-07 ┆ ML         ┆ 13       ┆ 211.172195 │\n",
       "│         ┆ kammurali   ┆          ┆             ┆            ┆ Mountain   ┆          ┆            │\n",
       "│         ┆             ┆          ┆             ┆            ┆ Frame-W -  ┆          ┆            │\n",
       "│         ┆             ┆          ┆             ┆            ┆ Silver, 40 ┆          ┆            │\n",
       "│ 65321   ┆ Humberto    ┆ Amazon   ┆ 2024-06-29  ┆ 2024-07-05 ┆ ML         ┆ 1        ┆ 218.453995 │\n",
       "│         ┆ Acevedo     ┆          ┆             ┆            ┆ Mountain   ┆          ┆            │\n",
       "│         ┆             ┆          ┆             ┆            ┆ Frame-W -  ┆          ┆            │\n",
       "│         ┆             ┆          ┆             ┆            ┆ Silver, 42 ┆          ┆            │\n",
       "│ 57066   ┆ David Brink ┆ Alibaba  ┆ 2024-02-28  ┆ 2024-03-09 ┆ Women's    ┆ 4        ┆ 48.7435    │\n",
       "│         ┆             ┆          ┆             ┆            ┆ Tights, S  ┆          ┆            │\n",
       "│ 71691   ┆ Peter       ┆ Alibaba  ┆ 2024-09-30  ┆ 2024-10-06 ┆ Women's    ┆ 2        ┆ 48.7435    │\n",
       "│         ┆ Connelly    ┆          ┆             ┆            ┆ Tights, S  ┆          ┆            │\n",
       "└─────────┴─────────────┴──────────┴─────────────┴────────────┴────────────┴──────────┴────────────┘"
      ]
     },
     "execution_count": 6,
     "metadata": {},
     "output_type": "execute_result"
    }
   ],
   "source": [
    "# Selección de multiples columnas usando el nombre directo\n",
    "df.select([\"Factura\", \"Cliente\", \"Tienda\", \"Fecha Pedido\", \"Fecha Entrega\", \"Producto\", \"Unidades\", \"Precio\"]).head()"
   ]
  },
  {
   "cell_type": "code",
   "execution_count": 7,
   "metadata": {},
   "outputs": [
    {
     "data": {
      "text/html": [
       "<div><style>\n",
       ".dataframe > thead > tr,\n",
       ".dataframe > tbody > tr {\n",
       "  text-align: right;\n",
       "  white-space: pre-wrap;\n",
       "}\n",
       "</style>\n",
       "<small>shape: (5, 8)</small><table border=\"1\" class=\"dataframe\"><thead><tr><th>Codigo Factura</th><th>Cliente</th><th>Tienda</th><th>Fecha Pedido</th><th>Fecha Entrega</th><th>Producto</th><th>Unidades</th><th>Precio</th></tr><tr><td>str</td><td>str</td><td>str</td><td>date</td><td>date</td><td>str</td><td>i16</td><td>f32</td></tr></thead><tbody><tr><td>&quot;55275&quot;</td><td>&quot;James McCoy&quot;</td><td>&quot;ModCloth&quot;</td><td>2024-01-30</td><td>2024-02-06</td><td>&quot;ML Mountain Frame-W - Silver, 40&quot;</td><td>12</td><td>211.172195</td></tr><tr><td>&quot;59064&quot;</td><td>&quot;Krishna Sunkammurali&quot;</td><td>&quot;GameStop&quot;</td><td>2024-03-30</td><td>2024-04-07</td><td>&quot;ML Mountain Frame-W - Silver, 40&quot;</td><td>13</td><td>211.172195</td></tr><tr><td>&quot;65321&quot;</td><td>&quot;Humberto Acevedo&quot;</td><td>&quot;Amazon&quot;</td><td>2024-06-29</td><td>2024-07-05</td><td>&quot;ML Mountain Frame-W - Silver, 42&quot;</td><td>1</td><td>218.453995</td></tr><tr><td>&quot;57066&quot;</td><td>&quot;David Brink&quot;</td><td>&quot;Alibaba&quot;</td><td>2024-02-28</td><td>2024-03-09</td><td>&quot;Women&#x27;s Tights, S&quot;</td><td>4</td><td>48.7435</td></tr><tr><td>&quot;71691&quot;</td><td>&quot;Peter Connelly&quot;</td><td>&quot;Alibaba&quot;</td><td>2024-09-30</td><td>2024-10-06</td><td>&quot;Women&#x27;s Tights, S&quot;</td><td>2</td><td>48.7435</td></tr></tbody></table></div>"
      ],
      "text/plain": [
       "shape: (5, 8)\n",
       "┌────────────┬────────────┬──────────┬────────────┬────────────┬────────────┬──────────┬───────────┐\n",
       "│ Codigo     ┆ Cliente    ┆ Tienda   ┆ Fecha      ┆ Fecha      ┆ Producto   ┆ Unidades ┆ Precio    │\n",
       "│ Factura    ┆ ---        ┆ ---      ┆ Pedido     ┆ Entrega    ┆ ---        ┆ ---      ┆ ---       │\n",
       "│ ---        ┆ str        ┆ str      ┆ ---        ┆ ---        ┆ str        ┆ i16      ┆ f32       │\n",
       "│ str        ┆            ┆          ┆ date       ┆ date       ┆            ┆          ┆           │\n",
       "╞════════════╪════════════╪══════════╪════════════╪════════════╪════════════╪══════════╪═══════════╡\n",
       "│ 55275      ┆ James      ┆ ModCloth ┆ 2024-01-30 ┆ 2024-02-06 ┆ ML         ┆ 12       ┆ 211.17219 │\n",
       "│            ┆ McCoy      ┆          ┆            ┆            ┆ Mountain   ┆          ┆ 5         │\n",
       "│            ┆            ┆          ┆            ┆            ┆ Frame-W -  ┆          ┆           │\n",
       "│            ┆            ┆          ┆            ┆            ┆ Silver, 40 ┆          ┆           │\n",
       "│ 59064      ┆ Krishna    ┆ GameStop ┆ 2024-03-30 ┆ 2024-04-07 ┆ ML         ┆ 13       ┆ 211.17219 │\n",
       "│            ┆ Sunkammura ┆          ┆            ┆            ┆ Mountain   ┆          ┆ 5         │\n",
       "│            ┆ li         ┆          ┆            ┆            ┆ Frame-W -  ┆          ┆           │\n",
       "│            ┆            ┆          ┆            ┆            ┆ Silver, 40 ┆          ┆           │\n",
       "│ 65321      ┆ Humberto   ┆ Amazon   ┆ 2024-06-29 ┆ 2024-07-05 ┆ ML         ┆ 1        ┆ 218.45399 │\n",
       "│            ┆ Acevedo    ┆          ┆            ┆            ┆ Mountain   ┆          ┆ 5         │\n",
       "│            ┆            ┆          ┆            ┆            ┆ Frame-W -  ┆          ┆           │\n",
       "│            ┆            ┆          ┆            ┆            ┆ Silver, 42 ┆          ┆           │\n",
       "│ 57066      ┆ David      ┆ Alibaba  ┆ 2024-02-28 ┆ 2024-03-09 ┆ Women's    ┆ 4        ┆ 48.7435   │\n",
       "│            ┆ Brink      ┆          ┆            ┆            ┆ Tights, S  ┆          ┆           │\n",
       "│ 71691      ┆ Peter      ┆ Alibaba  ┆ 2024-09-30 ┆ 2024-10-06 ┆ Women's    ┆ 2        ┆ 48.7435   │\n",
       "│            ┆ Connelly   ┆          ┆            ┆            ┆ Tights, S  ┆          ┆           │\n",
       "└────────────┴────────────┴──────────┴────────────┴────────────┴────────────┴──────────┴───────────┘"
      ]
     },
     "execution_count": 7,
     "metadata": {},
     "output_type": "execute_result"
    }
   ],
   "source": [
    "# Selección de multiples columnas usando la función col\n",
    "df.select(pl.col(\"Factura\").alias(\"Codigo Factura\"), \n",
    "          pl.col(\"Cliente\"),\n",
    "          pl.col(\"Tienda\"),\n",
    "          pl.col(\"Fecha Pedido\"),\n",
    "          pl.col(\"Fecha Entrega\"),\n",
    "          pl.col(\"Producto\"), \n",
    "          pl.col(\"Unidades\"),\n",
    "          pl.col(\"Precio\")\n",
    "          ).head()"
   ]
  },
  {
   "cell_type": "code",
   "execution_count": 38,
   "metadata": {},
   "outputs": [
    {
     "data": {
      "text/html": [
       "<div><style>\n",
       ".dataframe > thead > tr,\n",
       ".dataframe > tbody > tr {\n",
       "  text-align: right;\n",
       "  white-space: pre-wrap;\n",
       "}\n",
       "</style>\n",
       "<small>shape: (5, 10)</small><table border=\"1\" class=\"dataframe\"><thead><tr><th>Factura</th><th>Cliente</th><th>Tienda</th><th>Fecha Pedido</th><th>Fecha Entrega</th><th>Producto</th><th>Unidades</th><th>Precio</th><th>Subtotal</th><th>Periodo</th></tr><tr><td>str</td><td>str</td><td>str</td><td>date</td><td>date</td><td>str</td><td>i16</td><td>f32</td><td>f32</td><td>str</td></tr></thead><tbody><tr><td>&quot;55275&quot;</td><td>&quot;James McCoy&quot;</td><td>&quot;ModCloth&quot;</td><td>2024-01-30</td><td>2024-02-06</td><td>&quot;ML Mountain Frame-W - Silver, 40&quot;</td><td>12</td><td>211.17</td><td>2534.07</td><td>&quot;202401&quot;</td></tr><tr><td>&quot;59064&quot;</td><td>&quot;Krishna Sunkammurali&quot;</td><td>&quot;GameStop&quot;</td><td>2024-03-30</td><td>2024-04-07</td><td>&quot;ML Mountain Frame-W - Silver, 40&quot;</td><td>13</td><td>211.17</td><td>2745.24</td><td>&quot;202403&quot;</td></tr><tr><td>&quot;65321&quot;</td><td>&quot;Humberto Acevedo&quot;</td><td>&quot;Amazon&quot;</td><td>2024-06-29</td><td>2024-07-05</td><td>&quot;ML Mountain Frame-W - Silver, 42&quot;</td><td>1</td><td>218.45</td><td>218.45</td><td>&quot;202406&quot;</td></tr><tr><td>&quot;57066&quot;</td><td>&quot;David Brink&quot;</td><td>&quot;Alibaba&quot;</td><td>2024-02-28</td><td>2024-03-09</td><td>&quot;Women&#x27;s Tights, S&quot;</td><td>4</td><td>48.74</td><td>194.97</td><td>&quot;202402&quot;</td></tr><tr><td>&quot;71691&quot;</td><td>&quot;Peter Connelly&quot;</td><td>&quot;Alibaba&quot;</td><td>2024-09-30</td><td>2024-10-06</td><td>&quot;Women&#x27;s Tights, S&quot;</td><td>2</td><td>48.74</td><td>97.49</td><td>&quot;202409&quot;</td></tr></tbody></table></div>"
      ],
      "text/plain": [
       "shape: (5, 10)\n",
       "┌─────────┬─────────────────┬──────────┬──────────────┬───┬──────────┬────────┬──────────┬─────────┐\n",
       "│ Factura ┆ Cliente         ┆ Tienda   ┆ Fecha Pedido ┆ … ┆ Unidades ┆ Precio ┆ Subtotal ┆ Periodo │\n",
       "│ ---     ┆ ---             ┆ ---      ┆ ---          ┆   ┆ ---      ┆ ---    ┆ ---      ┆ ---     │\n",
       "│ str     ┆ str             ┆ str      ┆ date         ┆   ┆ i16      ┆ f32    ┆ f32      ┆ str     │\n",
       "╞═════════╪═════════════════╪══════════╪══════════════╪═══╪══════════╪════════╪══════════╪═════════╡\n",
       "│ 55275   ┆ James McCoy     ┆ ModCloth ┆ 2024-01-30   ┆ … ┆ 12       ┆ 211.17 ┆ 2534.07  ┆ 202401  │\n",
       "│ 59064   ┆ Krishna         ┆ GameStop ┆ 2024-03-30   ┆ … ┆ 13       ┆ 211.17 ┆ 2745.24  ┆ 202403  │\n",
       "│         ┆ Sunkammurali    ┆          ┆              ┆   ┆          ┆        ┆          ┆         │\n",
       "│ 65321   ┆ Humberto        ┆ Amazon   ┆ 2024-06-29   ┆ … ┆ 1        ┆ 218.45 ┆ 218.45   ┆ 202406  │\n",
       "│         ┆ Acevedo         ┆          ┆              ┆   ┆          ┆        ┆          ┆         │\n",
       "│ 57066   ┆ David Brink     ┆ Alibaba  ┆ 2024-02-28   ┆ … ┆ 4        ┆ 48.74  ┆ 194.97   ┆ 202402  │\n",
       "│ 71691   ┆ Peter Connelly  ┆ Alibaba  ┆ 2024-09-30   ┆ … ┆ 2        ┆ 48.74  ┆ 97.49    ┆ 202409  │\n",
       "└─────────┴─────────────────┴──────────┴──────────────┴───┴──────────┴────────┴──────────┴─────────┘"
      ]
     },
     "execution_count": 38,
     "metadata": {},
     "output_type": "execute_result"
    }
   ],
   "source": [
    "# Configurar para redondear a 02 decimales las columnas de tipo float\n",
    "Config.set_float_precision(2)\n",
    "\n",
    "# Seleccionar y crear una nueva columna, aplicando el cambio del tipo de dato\n",
    "df.select(pl.col(\"Factura\"), \n",
    "          pl.col(\"Cliente\"),\n",
    "          pl.col(\"Tienda\"),\n",
    "          pl.col(\"Fecha Pedido\"),\n",
    "          pl.col(\"Fecha Entrega\"),\n",
    "          pl.col(\"Producto\"), \n",
    "          pl.col(\"Unidades\"),\n",
    "          pl.col(\"Precio\").round(2),\n",
    "          Subtotal = (pl.col(\"Unidades\") * pl.col(\"Precio\")),#.cast(pl.Float64),\n",
    "          Periodo = pl.col(\"Fecha Pedido\").dt.strftime(\"%Y%m\")#.cast(pl.Int32)\n",
    "          ).head()"
   ]
  },
  {
   "cell_type": "code",
   "execution_count": 9,
   "metadata": {},
   "outputs": [
    {
     "data": {
      "text/html": [
       "<div><style>\n",
       ".dataframe > thead > tr,\n",
       ".dataframe > tbody > tr {\n",
       "  text-align: right;\n",
       "  white-space: pre-wrap;\n",
       "}\n",
       "</style>\n",
       "<small>shape: (5, 11)</small><table border=\"1\" class=\"dataframe\"><thead><tr><th>Factura</th><th>ClienteID</th><th>Cliente</th><th>Tienda</th><th>Pais</th><th>Fecha Pedido</th><th>Fecha Entrega</th><th>Producto</th><th>Unidades</th><th>Precio</th><th>Subtotal</th></tr><tr><td>str</td><td>i64</td><td>str</td><td>str</td><td>str</td><td>date</td><td>date</td><td>str</td><td>i16</td><td>f32</td><td>f32</td></tr></thead><tbody><tr><td>&quot;55275&quot;</td><td>30000</td><td>&quot;James McCoy&quot;</td><td>&quot;ModCloth&quot;</td><td>&quot;Canada&quot;</td><td>2024-01-30</td><td>2024-02-06</td><td>&quot;ML Mountain Frame-W - Silver, 40&quot;</td><td>12</td><td>211.17</td><td>2534.07</td></tr><tr><td>&quot;59064&quot;</td><td>30050</td><td>&quot;Krishna Sunkammurali&quot;</td><td>&quot;GameStop&quot;</td><td>&quot;United Kingdom&quot;</td><td>2024-03-30</td><td>2024-04-07</td><td>&quot;ML Mountain Frame-W - Silver, 40&quot;</td><td>13</td><td>211.17</td><td>2745.24</td></tr><tr><td>&quot;65321&quot;</td><td>29487</td><td>&quot;Humberto Acevedo&quot;</td><td>&quot;Amazon&quot;</td><td>&quot;United States&quot;</td><td>2024-06-29</td><td>2024-07-05</td><td>&quot;ML Mountain Frame-W - Silver, 42&quot;</td><td>1</td><td>218.45</td><td>218.45</td></tr><tr><td>&quot;57066&quot;</td><td>29586</td><td>&quot;David Brink&quot;</td><td>&quot;Alibaba&quot;</td><td>&quot;Germany&quot;</td><td>2024-02-28</td><td>2024-03-09</td><td>&quot;Women&#x27;s Tights, S&quot;</td><td>4</td><td>48.74</td><td>194.97</td></tr><tr><td>&quot;71691&quot;</td><td>29676</td><td>&quot;Peter Connelly&quot;</td><td>&quot;Alibaba&quot;</td><td>&quot;Germany&quot;</td><td>2024-09-30</td><td>2024-10-06</td><td>&quot;Women&#x27;s Tights, S&quot;</td><td>2</td><td>48.74</td><td>97.49</td></tr></tbody></table></div>"
      ],
      "text/plain": [
       "shape: (5, 11)\n",
       "┌─────────┬───────────┬───────────────┬──────────┬───┬──────────────┬──────────┬────────┬──────────┐\n",
       "│ Factura ┆ ClienteID ┆ Cliente       ┆ Tienda   ┆ … ┆ Producto     ┆ Unidades ┆ Precio ┆ Subtotal │\n",
       "│ ---     ┆ ---       ┆ ---           ┆ ---      ┆   ┆ ---          ┆ ---      ┆ ---    ┆ ---      │\n",
       "│ str     ┆ i64       ┆ str           ┆ str      ┆   ┆ str          ┆ i16      ┆ f32    ┆ f32      │\n",
       "╞═════════╪═══════════╪═══════════════╪══════════╪═══╪══════════════╪══════════╪════════╪══════════╡\n",
       "│ 55275   ┆ 30000     ┆ James McCoy   ┆ ModCloth ┆ … ┆ ML Mountain  ┆ 12       ┆ 211.17 ┆ 2534.07  │\n",
       "│         ┆           ┆               ┆          ┆   ┆ Frame-W -    ┆          ┆        ┆          │\n",
       "│         ┆           ┆               ┆          ┆   ┆ Silver, 40   ┆          ┆        ┆          │\n",
       "│ 59064   ┆ 30050     ┆ Krishna       ┆ GameStop ┆ … ┆ ML Mountain  ┆ 13       ┆ 211.17 ┆ 2745.24  │\n",
       "│         ┆           ┆ Sunkammurali  ┆          ┆   ┆ Frame-W -    ┆          ┆        ┆          │\n",
       "│         ┆           ┆               ┆          ┆   ┆ Silver, 40   ┆          ┆        ┆          │\n",
       "│ 65321   ┆ 29487     ┆ Humberto      ┆ Amazon   ┆ … ┆ ML Mountain  ┆ 1        ┆ 218.45 ┆ 218.45   │\n",
       "│         ┆           ┆ Acevedo       ┆          ┆   ┆ Frame-W -    ┆          ┆        ┆          │\n",
       "│         ┆           ┆               ┆          ┆   ┆ Silver, 42   ┆          ┆        ┆          │\n",
       "│ 57066   ┆ 29586     ┆ David Brink   ┆ Alibaba  ┆ … ┆ Women's      ┆ 4        ┆ 48.74  ┆ 194.97   │\n",
       "│         ┆           ┆               ┆          ┆   ┆ Tights, S    ┆          ┆        ┆          │\n",
       "│ 71691   ┆ 29676     ┆ Peter         ┆ Alibaba  ┆ … ┆ Women's      ┆ 2        ┆ 48.74  ┆ 97.49    │\n",
       "│         ┆           ┆ Connelly      ┆          ┆   ┆ Tights, S    ┆          ┆        ┆          │\n",
       "└─────────┴───────────┴───────────────┴──────────┴───┴──────────────┴──────────┴────────┴──────────┘"
      ]
     },
     "execution_count": 9,
     "metadata": {},
     "output_type": "execute_result"
    }
   ],
   "source": [
    "## Agregar una nueva columna a un Dataframe\n",
    "df.with_columns(( pl.col(\"Unidades\") * pl.col(\"Precio\") ).alias(\"Subtotal\")).head()"
   ]
  },
  {
   "cell_type": "code",
   "execution_count": 10,
   "metadata": {},
   "outputs": [
    {
     "data": {
      "text/html": [
       "<div><style>\n",
       ".dataframe > thead > tr,\n",
       ".dataframe > tbody > tr {\n",
       "  text-align: right;\n",
       "  white-space: pre-wrap;\n",
       "}\n",
       "</style>\n",
       "<small>shape: (5, 12)</small><table border=\"1\" class=\"dataframe\"><thead><tr><th>Factura</th><th>ClienteID</th><th>Cliente</th><th>Tienda</th><th>Pais</th><th>Fecha Pedido</th><th>Fecha Entrega</th><th>Producto</th><th>Unidades</th><th>Precio</th><th>Subtotal</th><th>Dias Cierre</th></tr><tr><td>str</td><td>i64</td><td>str</td><td>str</td><td>str</td><td>date</td><td>date</td><td>str</td><td>i16</td><td>f32</td><td>f32</td><td>i64</td></tr></thead><tbody><tr><td>&quot;55275&quot;</td><td>30000</td><td>&quot;James McCoy&quot;</td><td>&quot;ModCloth&quot;</td><td>&quot;Canada&quot;</td><td>2024-01-30</td><td>2024-02-06</td><td>&quot;ML Mountain Frame-W - Silver, 40&quot;</td><td>12</td><td>211.17</td><td>2534.07</td><td>7</td></tr><tr><td>&quot;59064&quot;</td><td>30050</td><td>&quot;Krishna Sunkammurali&quot;</td><td>&quot;GameStop&quot;</td><td>&quot;United Kingdom&quot;</td><td>2024-03-30</td><td>2024-04-07</td><td>&quot;ML Mountain Frame-W - Silver, 40&quot;</td><td>13</td><td>211.17</td><td>2745.24</td><td>8</td></tr><tr><td>&quot;65321&quot;</td><td>29487</td><td>&quot;Humberto Acevedo&quot;</td><td>&quot;Amazon&quot;</td><td>&quot;United States&quot;</td><td>2024-06-29</td><td>2024-07-05</td><td>&quot;ML Mountain Frame-W - Silver, 42&quot;</td><td>1</td><td>218.45</td><td>218.45</td><td>6</td></tr><tr><td>&quot;57066&quot;</td><td>29586</td><td>&quot;David Brink&quot;</td><td>&quot;Alibaba&quot;</td><td>&quot;Germany&quot;</td><td>2024-02-28</td><td>2024-03-09</td><td>&quot;Women&#x27;s Tights, S&quot;</td><td>4</td><td>48.74</td><td>194.97</td><td>10</td></tr><tr><td>&quot;71691&quot;</td><td>29676</td><td>&quot;Peter Connelly&quot;</td><td>&quot;Alibaba&quot;</td><td>&quot;Germany&quot;</td><td>2024-09-30</td><td>2024-10-06</td><td>&quot;Women&#x27;s Tights, S&quot;</td><td>2</td><td>48.74</td><td>97.49</td><td>6</td></tr></tbody></table></div>"
      ],
      "text/plain": [
       "shape: (5, 12)\n",
       "┌─────────┬───────────┬────────────────┬──────────┬───┬──────────┬────────┬──────────┬─────────────┐\n",
       "│ Factura ┆ ClienteID ┆ Cliente        ┆ Tienda   ┆ … ┆ Unidades ┆ Precio ┆ Subtotal ┆ Dias Cierre │\n",
       "│ ---     ┆ ---       ┆ ---            ┆ ---      ┆   ┆ ---      ┆ ---    ┆ ---      ┆ ---         │\n",
       "│ str     ┆ i64       ┆ str            ┆ str      ┆   ┆ i16      ┆ f32    ┆ f32      ┆ i64         │\n",
       "╞═════════╪═══════════╪════════════════╪══════════╪═══╪══════════╪════════╪══════════╪═════════════╡\n",
       "│ 55275   ┆ 30000     ┆ James McCoy    ┆ ModCloth ┆ … ┆ 12       ┆ 211.17 ┆ 2534.07  ┆ 7           │\n",
       "│ 59064   ┆ 30050     ┆ Krishna        ┆ GameStop ┆ … ┆ 13       ┆ 211.17 ┆ 2745.24  ┆ 8           │\n",
       "│         ┆           ┆ Sunkammurali   ┆          ┆   ┆          ┆        ┆          ┆             │\n",
       "│ 65321   ┆ 29487     ┆ Humberto       ┆ Amazon   ┆ … ┆ 1        ┆ 218.45 ┆ 218.45   ┆ 6           │\n",
       "│         ┆           ┆ Acevedo        ┆          ┆   ┆          ┆        ┆          ┆             │\n",
       "│ 57066   ┆ 29586     ┆ David Brink    ┆ Alibaba  ┆ … ┆ 4        ┆ 48.74  ┆ 194.97   ┆ 10          │\n",
       "│ 71691   ┆ 29676     ┆ Peter Connelly ┆ Alibaba  ┆ … ┆ 2        ┆ 48.74  ┆ 97.49    ┆ 6           │\n",
       "└─────────┴───────────┴────────────────┴──────────┴───┴──────────┴────────┴──────────┴─────────────┘"
      ]
     },
     "execution_count": 10,
     "metadata": {},
     "output_type": "execute_result"
    }
   ],
   "source": [
    "## Agregar nuevas columnas a un Dataframe\n",
    "df.with_columns(( pl.col(\"Unidades\") * pl.col(\"Precio\") ).alias(\"Subtotal\"),\n",
    "                ( pl.col(\"Fecha Entrega\") - pl.col(\"Fecha Pedido\") ).dt.total_days().alias(\"Dias Cierre\")\n",
    "                ).head()#.sort(\"Fecha Entrega\", descending=True, nulls_last=False)"
   ]
  },
  {
   "cell_type": "markdown",
   "metadata": {},
   "source": [
    "##### 3.2 Filtrado de Datos"
   ]
  },
  {
   "cell_type": "code",
   "execution_count": 11,
   "metadata": {},
   "outputs": [
    {
     "data": {
      "text/html": [
       "<div><style>\n",
       ".dataframe > thead > tr,\n",
       ".dataframe > tbody > tr {\n",
       "  text-align: right;\n",
       "  white-space: pre-wrap;\n",
       "}\n",
       "</style>\n",
       "<small>shape: (5, 10)</small><table border=\"1\" class=\"dataframe\"><thead><tr><th>Factura</th><th>ClienteID</th><th>Cliente</th><th>Tienda</th><th>Pais</th><th>Fecha Pedido</th><th>Fecha Entrega</th><th>Producto</th><th>Unidades</th><th>Precio</th></tr><tr><td>str</td><td>i64</td><td>str</td><td>str</td><td>str</td><td>date</td><td>date</td><td>str</td><td>i16</td><td>f32</td></tr></thead><tbody><tr><td>&quot;71884&quot;</td><td>29492</td><td>&quot;Jay Adams&quot;</td><td>&quot;Ebay&quot;</td><td>&quot;United States&quot;</td><td>2024-10-01</td><td>2024-10-07</td><td>&quot;ML Mountain Frame-W - Silver, 40&quot;</td><td>1</td><td>218.45</td></tr><tr><td>&quot;71884&quot;</td><td>29492</td><td>&quot;Jay Adams&quot;</td><td>&quot;Ebay&quot;</td><td>&quot;United States&quot;</td><td>2024-10-01</td><td>2024-10-12</td><td>&quot;Women&#x27;s Mountain Shorts, S&quot;</td><td>3</td><td>41.99</td></tr><tr><td>&quot;59058&quot;</td><td>29492</td><td>&quot;Jay Adams&quot;</td><td>&quot;Ebay&quot;</td><td>&quot;United States&quot;</td><td>2024-03-30</td><td>2024-04-08</td><td>&quot;Women&#x27;s Mountain Shorts, M&quot;</td><td>2</td><td>41.99</td></tr><tr><td>&quot;71884&quot;</td><td>29492</td><td>&quot;Jay Adams&quot;</td><td>&quot;Ebay&quot;</td><td>&quot;United States&quot;</td><td>2024-10-01</td><td>2024-10-08</td><td>&quot;Women&#x27;s Mountain Shorts, M&quot;</td><td>2</td><td>41.99</td></tr><tr><td>&quot;59058&quot;</td><td>29492</td><td>&quot;Jay Adams&quot;</td><td>&quot;Ebay&quot;</td><td>&quot;United States&quot;</td><td>2024-03-30</td><td>2024-04-06</td><td>&quot;Women&#x27;s Mountain Shorts, L&quot;</td><td>9</td><td>41.99</td></tr></tbody></table></div>"
      ],
      "text/plain": [
       "shape: (5, 10)\n",
       "┌─────────┬───────────┬───────────┬────────┬───┬───────────────┬───────────────┬──────────┬────────┐\n",
       "│ Factura ┆ ClienteID ┆ Cliente   ┆ Tienda ┆ … ┆ Fecha Entrega ┆ Producto      ┆ Unidades ┆ Precio │\n",
       "│ ---     ┆ ---       ┆ ---       ┆ ---    ┆   ┆ ---           ┆ ---           ┆ ---      ┆ ---    │\n",
       "│ str     ┆ i64       ┆ str       ┆ str    ┆   ┆ date          ┆ str           ┆ i16      ┆ f32    │\n",
       "╞═════════╪═══════════╪═══════════╪════════╪═══╪═══════════════╪═══════════════╪══════════╪════════╡\n",
       "│ 71884   ┆ 29492     ┆ Jay Adams ┆ Ebay   ┆ … ┆ 2024-10-07    ┆ ML Mountain   ┆ 1        ┆ 218.45 │\n",
       "│         ┆           ┆           ┆        ┆   ┆               ┆ Frame-W -     ┆          ┆        │\n",
       "│         ┆           ┆           ┆        ┆   ┆               ┆ Silver, 40    ┆          ┆        │\n",
       "│ 71884   ┆ 29492     ┆ Jay Adams ┆ Ebay   ┆ … ┆ 2024-10-12    ┆ Women's       ┆ 3        ┆ 41.99  │\n",
       "│         ┆           ┆           ┆        ┆   ┆               ┆ Mountain      ┆          ┆        │\n",
       "│         ┆           ┆           ┆        ┆   ┆               ┆ Shorts, S     ┆          ┆        │\n",
       "│ 59058   ┆ 29492     ┆ Jay Adams ┆ Ebay   ┆ … ┆ 2024-04-08    ┆ Women's       ┆ 2        ┆ 41.99  │\n",
       "│         ┆           ┆           ┆        ┆   ┆               ┆ Mountain      ┆          ┆        │\n",
       "│         ┆           ┆           ┆        ┆   ┆               ┆ Shorts, M     ┆          ┆        │\n",
       "│ 71884   ┆ 29492     ┆ Jay Adams ┆ Ebay   ┆ … ┆ 2024-10-08    ┆ Women's       ┆ 2        ┆ 41.99  │\n",
       "│         ┆           ┆           ┆        ┆   ┆               ┆ Mountain      ┆          ┆        │\n",
       "│         ┆           ┆           ┆        ┆   ┆               ┆ Shorts, M     ┆          ┆        │\n",
       "│ 59058   ┆ 29492     ┆ Jay Adams ┆ Ebay   ┆ … ┆ 2024-04-06    ┆ Women's       ┆ 9        ┆ 41.99  │\n",
       "│         ┆           ┆           ┆        ┆   ┆               ┆ Mountain      ┆          ┆        │\n",
       "│         ┆           ┆           ┆        ┆   ┆               ┆ Shorts, L     ┆          ┆        │\n",
       "└─────────┴───────────┴───────────┴────────┴───┴───────────────┴───────────────┴──────────┴────────┘"
      ]
     },
     "execution_count": 11,
     "metadata": {},
     "output_type": "execute_result"
    }
   ],
   "source": [
    "# Filtrado de dataframe con condición de igualdad\n",
    "df.filter(pl.col(\"Cliente\") == \"Jay Adams\").head(5)"
   ]
  },
  {
   "cell_type": "code",
   "execution_count": 39,
   "metadata": {},
   "outputs": [
    {
     "data": {
      "text/html": [
       "<div><style>\n",
       ".dataframe > thead > tr,\n",
       ".dataframe > tbody > tr {\n",
       "  text-align: right;\n",
       "  white-space: pre-wrap;\n",
       "}\n",
       "</style>\n",
       "<small>shape: (5, 10)</small><table border=\"1\" class=\"dataframe\"><thead><tr><th>Factura</th><th>ClienteID</th><th>Cliente</th><th>Tienda</th><th>Pais</th><th>Fecha Pedido</th><th>Fecha Entrega</th><th>Producto</th><th>Unidades</th><th>Precio</th></tr><tr><td>str</td><td>i64</td><td>str</td><td>str</td><td>str</td><td>date</td><td>date</td><td>str</td><td>i16</td><td>f32</td></tr></thead><tbody><tr><td>&quot;65321&quot;</td><td>29487</td><td>&quot;Humberto Acevedo&quot;</td><td>&quot;Amazon&quot;</td><td>&quot;United States&quot;</td><td>2024-06-29</td><td>2024-07-05</td><td>&quot;ML Mountain Frame-W - Silver, 42&quot;</td><td>1</td><td>218.45</td></tr><tr><td>&quot;71691&quot;</td><td>29676</td><td>&quot;Peter Connelly&quot;</td><td>&quot;Alibaba&quot;</td><td>&quot;Germany&quot;</td><td>2024-09-30</td><td>2024-10-06</td><td>&quot;Women&#x27;s Tights, S&quot;</td><td>2</td><td>48.74</td></tr><tr><td>&quot;71940&quot;</td><td>29487</td><td>&quot;Humberto Acevedo&quot;</td><td>&quot;Amazon&quot;</td><td>&quot;United States&quot;</td><td>2024-10-01</td><td>2024-10-04</td><td>&quot;ML Mountain Frame-W - Silver, 46&quot;</td><td>2</td><td>218.45</td></tr><tr><td>&quot;71884&quot;</td><td>29492</td><td>&quot;Jay Adams&quot;</td><td>&quot;Ebay&quot;</td><td>&quot;United States&quot;</td><td>2024-10-01</td><td>2024-10-07</td><td>&quot;ML Mountain Frame-W - Silver, 40&quot;</td><td>1</td><td>218.45</td></tr><tr><td>&quot;69309&quot;</td><td>29586</td><td>&quot;David Brink&quot;</td><td>&quot;Alibaba&quot;</td><td>&quot;Germany&quot;</td><td>2024-08-30</td><td>2024-09-07</td><td>&quot;Women&#x27;s Tights, L&quot;</td><td>4</td><td>48.74</td></tr></tbody></table></div>"
      ],
      "text/plain": [
       "shape: (5, 10)\n",
       "┌─────────┬───────────┬──────────────┬─────────┬───┬─────────────┬─────────────┬──────────┬────────┐\n",
       "│ Factura ┆ ClienteID ┆ Cliente      ┆ Tienda  ┆ … ┆ Fecha       ┆ Producto    ┆ Unidades ┆ Precio │\n",
       "│ ---     ┆ ---       ┆ ---          ┆ ---     ┆   ┆ Entrega     ┆ ---         ┆ ---      ┆ ---    │\n",
       "│ str     ┆ i64       ┆ str          ┆ str     ┆   ┆ ---         ┆ str         ┆ i16      ┆ f32    │\n",
       "│         ┆           ┆              ┆         ┆   ┆ date        ┆             ┆          ┆        │\n",
       "╞═════════╪═══════════╪══════════════╪═════════╪═══╪═════════════╪═════════════╪══════════╪════════╡\n",
       "│ 65321   ┆ 29487     ┆ Humberto     ┆ Amazon  ┆ … ┆ 2024-07-05  ┆ ML Mountain ┆ 1        ┆ 218.45 │\n",
       "│         ┆           ┆ Acevedo      ┆         ┆   ┆             ┆ Frame-W -   ┆          ┆        │\n",
       "│         ┆           ┆              ┆         ┆   ┆             ┆ Silver, 42  ┆          ┆        │\n",
       "│ 71691   ┆ 29676     ┆ Peter        ┆ Alibaba ┆ … ┆ 2024-10-06  ┆ Women's     ┆ 2        ┆ 48.74  │\n",
       "│         ┆           ┆ Connelly     ┆         ┆   ┆             ┆ Tights, S   ┆          ┆        │\n",
       "│ 71940   ┆ 29487     ┆ Humberto     ┆ Amazon  ┆ … ┆ 2024-10-04  ┆ ML Mountain ┆ 2        ┆ 218.45 │\n",
       "│         ┆           ┆ Acevedo      ┆         ┆   ┆             ┆ Frame-W -   ┆          ┆        │\n",
       "│         ┆           ┆              ┆         ┆   ┆             ┆ Silver, 46  ┆          ┆        │\n",
       "│ 71884   ┆ 29492     ┆ Jay Adams    ┆ Ebay    ┆ … ┆ 2024-10-07  ┆ ML Mountain ┆ 1        ┆ 218.45 │\n",
       "│         ┆           ┆              ┆         ┆   ┆             ┆ Frame-W -   ┆          ┆        │\n",
       "│         ┆           ┆              ┆         ┆   ┆             ┆ Silver, 40  ┆          ┆        │\n",
       "│ 69309   ┆ 29586     ┆ David Brink  ┆ Alibaba ┆ … ┆ 2024-09-07  ┆ Women's     ┆ 4        ┆ 48.74  │\n",
       "│         ┆           ┆              ┆         ┆   ┆             ┆ Tights, L   ┆          ┆        │\n",
       "└─────────┴───────────┴──────────────┴─────────┴───┴─────────────┴─────────────┴──────────┴────────┘"
      ]
     },
     "execution_count": 39,
     "metadata": {},
     "output_type": "execute_result"
    }
   ],
   "source": [
    "# Filtrado de dataframe con intervalos para fechas\n",
    "df.filter(pl.col(\"Fecha Pedido\") >= pl.date(2024, 5, 1)).head(5)"
   ]
  },
  {
   "cell_type": "code",
   "execution_count": 40,
   "metadata": {},
   "outputs": [
    {
     "data": {
      "text/html": [
       "<div><style>\n",
       ".dataframe > thead > tr,\n",
       ".dataframe > tbody > tr {\n",
       "  text-align: right;\n",
       "  white-space: pre-wrap;\n",
       "}\n",
       "</style>\n",
       "<small>shape: (5, 10)</small><table border=\"1\" class=\"dataframe\"><thead><tr><th>Factura</th><th>ClienteID</th><th>Cliente</th><th>Tienda</th><th>Pais</th><th>Fecha Pedido</th><th>Fecha Entrega</th><th>Producto</th><th>Unidades</th><th>Precio</th></tr><tr><td>str</td><td>i64</td><td>str</td><td>str</td><td>str</td><td>date</td><td>date</td><td>str</td><td>i16</td><td>f32</td></tr></thead><tbody><tr><td>&quot;55275&quot;</td><td>30000</td><td>&quot;James McCoy&quot;</td><td>&quot;ModCloth&quot;</td><td>&quot;Canada&quot;</td><td>2024-01-30</td><td>2024-02-06</td><td>&quot;ML Mountain Frame-W - Silver, 40&quot;</td><td>12</td><td>211.17</td></tr><tr><td>&quot;59064&quot;</td><td>30050</td><td>&quot;Krishna Sunkammurali&quot;</td><td>&quot;GameStop&quot;</td><td>&quot;United Kingdom&quot;</td><td>2024-03-30</td><td>2024-04-07</td><td>&quot;ML Mountain Frame-W - Silver, 40&quot;</td><td>13</td><td>211.17</td></tr><tr><td>&quot;65321&quot;</td><td>29487</td><td>&quot;Humberto Acevedo&quot;</td><td>&quot;Amazon&quot;</td><td>&quot;United States&quot;</td><td>2024-06-29</td><td>2024-07-05</td><td>&quot;ML Mountain Frame-W - Silver, 42&quot;</td><td>1</td><td>218.45</td></tr><tr><td>&quot;57066&quot;</td><td>29586</td><td>&quot;David Brink&quot;</td><td>&quot;Alibaba&quot;</td><td>&quot;Germany&quot;</td><td>2024-02-28</td><td>2024-03-09</td><td>&quot;Women&#x27;s Tights, S&quot;</td><td>4</td><td>48.74</td></tr><tr><td>&quot;71691&quot;</td><td>29676</td><td>&quot;Peter Connelly&quot;</td><td>&quot;Alibaba&quot;</td><td>&quot;Germany&quot;</td><td>2024-09-30</td><td>2024-10-06</td><td>&quot;Women&#x27;s Tights, S&quot;</td><td>2</td><td>48.74</td></tr></tbody></table></div>"
      ],
      "text/plain": [
       "shape: (5, 10)\n",
       "┌─────────┬───────────┬─────────────┬──────────┬───┬─────────────┬─────────────┬──────────┬────────┐\n",
       "│ Factura ┆ ClienteID ┆ Cliente     ┆ Tienda   ┆ … ┆ Fecha       ┆ Producto    ┆ Unidades ┆ Precio │\n",
       "│ ---     ┆ ---       ┆ ---         ┆ ---      ┆   ┆ Entrega     ┆ ---         ┆ ---      ┆ ---    │\n",
       "│ str     ┆ i64       ┆ str         ┆ str      ┆   ┆ ---         ┆ str         ┆ i16      ┆ f32    │\n",
       "│         ┆           ┆             ┆          ┆   ┆ date        ┆             ┆          ┆        │\n",
       "╞═════════╪═══════════╪═════════════╪══════════╪═══╪═════════════╪═════════════╪══════════╪════════╡\n",
       "│ 55275   ┆ 30000     ┆ James McCoy ┆ ModCloth ┆ … ┆ 2024-02-06  ┆ ML Mountain ┆ 12       ┆ 211.17 │\n",
       "│         ┆           ┆             ┆          ┆   ┆             ┆ Frame-W -   ┆          ┆        │\n",
       "│         ┆           ┆             ┆          ┆   ┆             ┆ Silver, 40  ┆          ┆        │\n",
       "│ 59064   ┆ 30050     ┆ Krishna Sun ┆ GameStop ┆ … ┆ 2024-04-07  ┆ ML Mountain ┆ 13       ┆ 211.17 │\n",
       "│         ┆           ┆ kammurali   ┆          ┆   ┆             ┆ Frame-W -   ┆          ┆        │\n",
       "│         ┆           ┆             ┆          ┆   ┆             ┆ Silver, 40  ┆          ┆        │\n",
       "│ 65321   ┆ 29487     ┆ Humberto    ┆ Amazon   ┆ … ┆ 2024-07-05  ┆ ML Mountain ┆ 1        ┆ 218.45 │\n",
       "│         ┆           ┆ Acevedo     ┆          ┆   ┆             ┆ Frame-W -   ┆          ┆        │\n",
       "│         ┆           ┆             ┆          ┆   ┆             ┆ Silver, 42  ┆          ┆        │\n",
       "│ 57066   ┆ 29586     ┆ David Brink ┆ Alibaba  ┆ … ┆ 2024-03-09  ┆ Women's     ┆ 4        ┆ 48.74  │\n",
       "│         ┆           ┆             ┆          ┆   ┆             ┆ Tights, S   ┆          ┆        │\n",
       "│ 71691   ┆ 29676     ┆ Peter       ┆ Alibaba  ┆ … ┆ 2024-10-06  ┆ Women's     ┆ 2        ┆ 48.74  │\n",
       "│         ┆           ┆ Connelly    ┆          ┆   ┆             ┆ Tights, S   ┆          ┆        │\n",
       "└─────────┴───────────┴─────────────┴──────────┴───┴─────────────┴─────────────┴──────────┴────────┘"
      ]
     },
     "execution_count": 40,
     "metadata": {},
     "output_type": "execute_result"
    }
   ],
   "source": [
    "# Filtrado de dataframe basado en la fecha actual\n",
    "from datetime import date\n",
    "from dateutil.relativedelta import relativedelta\n",
    "\n",
    "fecha_corte = date.today() - relativedelta(days = 3) # + relativedelta(months = 2)\n",
    "\n",
    "df.filter(pl.col(\"Fecha Pedido\") >= fecha_corte).head()"
   ]
  },
  {
   "cell_type": "markdown",
   "metadata": {},
   "source": [
    "##### 3.3 Agrupación de Datos"
   ]
  },
  {
   "cell_type": "code",
   "execution_count": 41,
   "metadata": {},
   "outputs": [
    {
     "data": {
      "text/html": [
       "<div><style>\n",
       ".dataframe > thead > tr,\n",
       ".dataframe > tbody > tr {\n",
       "  text-align: right;\n",
       "  white-space: pre-wrap;\n",
       "}\n",
       "</style>\n",
       "<small>shape: (5, 2)</small><table border=\"1\" class=\"dataframe\"><thead><tr><th>Fecha Pedido</th><th>#Facturas</th></tr><tr><td>date</td><td>u32</td></tr></thead><tbody><tr><td>2024-01-01</td><td>58</td></tr><tr><td>2024-01-02</td><td>52</td></tr><tr><td>2024-01-03</td><td>58</td></tr><tr><td>2024-01-04</td><td>44</td></tr><tr><td>2024-01-05</td><td>46</td></tr></tbody></table></div>"
      ],
      "text/plain": [
       "shape: (5, 2)\n",
       "┌──────────────┬───────────┐\n",
       "│ Fecha Pedido ┆ #Facturas │\n",
       "│ ---          ┆ ---       │\n",
       "│ date         ┆ u32       │\n",
       "╞══════════════╪═══════════╡\n",
       "│ 2024-01-01   ┆ 58        │\n",
       "│ 2024-01-02   ┆ 52        │\n",
       "│ 2024-01-03   ┆ 58        │\n",
       "│ 2024-01-04   ┆ 44        │\n",
       "│ 2024-01-05   ┆ 46        │\n",
       "└──────────────┴───────────┘"
      ]
     },
     "execution_count": 41,
     "metadata": {},
     "output_type": "execute_result"
    }
   ],
   "source": [
    "# Los datos en la agregación crean una lista con todos los valores pertenecientes a la agrupación\n",
    "df.group_by(\"Fecha Pedido\").agg( pl.col(\"Factura\") )\n",
    "\n",
    "# Para eliminar los valores duplicados en la lista usamos: unique()\n",
    "df.group_by(\"Fecha Pedido\").agg( pl.col(\"Factura\").unique() )\n",
    "\n",
    "# Ahora realizamos la operación de agreación: count()\n",
    "df.group_by(\"Fecha Pedido\").agg( pl.col(\"Factura\").unique().count() )\n",
    "\n",
    "# Podemos colocar un sobrenombre o alias a la columna de agregación\n",
    "df.group_by(\"Fecha Pedido\").agg( pl.col(\"Factura\").unique().count().alias(\"#Facturas\") ).sort(\"Fecha Pedido\", descending=False).head(5)"
   ]
  },
  {
   "cell_type": "code",
   "execution_count": 18,
   "metadata": {},
   "outputs": [
    {
     "data": {
      "text/html": [
       "<div><style>\n",
       ".dataframe > thead > tr,\n",
       ".dataframe > tbody > tr {\n",
       "  text-align: right;\n",
       "  white-space: pre-wrap;\n",
       "}\n",
       "</style>\n",
       "<small>shape: (11, 2)</small><table border=\"1\" class=\"dataframe\"><thead><tr><th>Mes</th><th>#Facturas</th></tr><tr><td>i8</td><td>u32</td></tr></thead><tbody><tr><td>1</td><td>1789</td></tr><tr><td>2</td><td>1791</td></tr><tr><td>3</td><td>1968</td></tr><tr><td>4</td><td>2103</td></tr><tr><td>5</td><td>2050</td></tr><tr><td>6</td><td>2141</td></tr><tr><td>7</td><td>1756</td></tr><tr><td>8</td><td>2399</td></tr><tr><td>9</td><td>2115</td></tr><tr><td>10</td><td>2411</td></tr><tr><td>11</td><td>939</td></tr></tbody></table></div>"
      ],
      "text/plain": [
       "shape: (11, 2)\n",
       "┌─────┬───────────┐\n",
       "│ Mes ┆ #Facturas │\n",
       "│ --- ┆ ---       │\n",
       "│ i8  ┆ u32       │\n",
       "╞═════╪═══════════╡\n",
       "│ 1   ┆ 1789      │\n",
       "│ 2   ┆ 1791      │\n",
       "│ 3   ┆ 1968      │\n",
       "│ 4   ┆ 2103      │\n",
       "│ …   ┆ …         │\n",
       "│ 8   ┆ 2399      │\n",
       "│ 9   ┆ 2115      │\n",
       "│ 10  ┆ 2411      │\n",
       "│ 11  ┆ 939       │\n",
       "└─────┴───────────┘"
      ]
     },
     "execution_count": 18,
     "metadata": {},
     "output_type": "execute_result"
    }
   ],
   "source": [
    "# Agrupación con agregación sobre una operación\n",
    "df.group_by(\"Tienda\").agg((pl.col(\"Unidades\") * pl.col(\"Precio\")).sum().alias(\"Ventas\"))\n",
    "\n",
    "# Agrupación basada en una operación con agregación simple\n",
    "df.group_by(pl.col(\"Fecha Pedido\").dt.month().alias(\"Mes\")).agg(pl.col(\"Factura\").unique().count().alias(\"#Facturas\")).sort(\"Mes\", descending = False)\n"
   ]
  },
  {
   "cell_type": "code",
   "execution_count": 20,
   "metadata": {},
   "outputs": [
    {
     "data": {
      "text/html": [
       "<div><style>\n",
       ".dataframe > thead > tr,\n",
       ".dataframe > tbody > tr {\n",
       "  text-align: right;\n",
       "  white-space: pre-wrap;\n",
       "}\n",
       "</style>\n",
       "<small>shape: (10, 2)</small><table border=\"1\" class=\"dataframe\"><thead><tr><th>Tienda</th><th>Ventas</th></tr><tr><td>str</td><td>str</td></tr></thead><tbody><tr><td>&quot;Mr Porter&quot;</td><td>&quot;S/ 8.0 MM&quot;</td></tr><tr><td>&quot;Walmart&quot;</td><td>&quot;S/ 6.0 MM&quot;</td></tr><tr><td>&quot;BestBuy&quot;</td><td>&quot;S/ 5.1 MM&quot;</td></tr><tr><td>&quot;ModCloth&quot;</td><td>&quot;S/ 4.9 MM&quot;</td></tr><tr><td>&quot;GameStop&quot;</td><td>&quot;S/ 3.9 MM&quot;</td></tr><tr><td>&quot;Nasty Gal&quot;</td><td>&quot;S/ 3.6 MM&quot;</td></tr><tr><td>&quot;Alibaba&quot;</td><td>&quot;S/ 3.0 MM&quot;</td></tr><tr><td>&quot;Ebay&quot;</td><td>&quot;S/ 2.1 MM&quot;</td></tr><tr><td>&quot;Zappos&quot;</td><td>&quot;S/ 1.8 MM&quot;</td></tr><tr><td>&quot;Amazon&quot;</td><td>&quot;S/ 1.7 MM&quot;</td></tr></tbody></table></div>"
      ],
      "text/plain": [
       "shape: (10, 2)\n",
       "┌───────────┬───────────┐\n",
       "│ Tienda    ┆ Ventas    │\n",
       "│ ---       ┆ ---       │\n",
       "│ str       ┆ str       │\n",
       "╞═══════════╪═══════════╡\n",
       "│ Mr Porter ┆ S/ 8.0 MM │\n",
       "│ Walmart   ┆ S/ 6.0 MM │\n",
       "│ BestBuy   ┆ S/ 5.1 MM │\n",
       "│ ModCloth  ┆ S/ 4.9 MM │\n",
       "│ …         ┆ …         │\n",
       "│ Alibaba   ┆ S/ 3.0 MM │\n",
       "│ Ebay      ┆ S/ 2.1 MM │\n",
       "│ Zappos    ┆ S/ 1.8 MM │\n",
       "│ Amazon    ┆ S/ 1.7 MM │\n",
       "└───────────┴───────────┘"
      ]
     },
     "execution_count": 20,
     "metadata": {},
     "output_type": "execute_result"
    }
   ],
   "source": [
    "# Agregar formato a la agregación\n",
    "df.group_by(\"Tienda\").agg((pl.col(\"Unidades\") * pl.col(\"Precio\")).sum().alias(\"Ventas\")\n",
    "                        ).sort(\"Ventas\", descending=True\n",
    "                        ).with_columns(pl.format( \"S/ {} MM\", (pl.col(\"Ventas\")/1000000).round(1) ).alias(\"Ventas\"))"
   ]
  },
  {
   "cell_type": "code",
   "execution_count": 19,
   "metadata": {},
   "outputs": [
    {
     "data": {
      "text/html": [
       "<div><style>\n",
       ".dataframe > thead > tr,\n",
       ".dataframe > tbody > tr {\n",
       "  text-align: right;\n",
       "  white-space: pre-wrap;\n",
       "}\n",
       "</style>\n",
       "<small>shape: (10, 3)</small><table border=\"1\" class=\"dataframe\"><thead><tr><th>Pais</th><th>Tienda</th><th>Ventas</th></tr><tr><td>str</td><td>str</td><td>f32</td></tr></thead><tbody><tr><td>&quot;United States&quot;</td><td>&quot;Mr Porter&quot;</td><td>7980172.00</td></tr><tr><td>&quot;United States&quot;</td><td>&quot;Walmart&quot;</td><td>5997758.50</td></tr><tr><td>&quot;Australia&quot;</td><td>&quot;BestBuy&quot;</td><td>5088565.00</td></tr><tr><td>&quot;Canada&quot;</td><td>&quot;ModCloth&quot;</td><td>4944273.00</td></tr><tr><td>&quot;United Kingdom&quot;</td><td>&quot;GameStop&quot;</td><td>3904716.00</td></tr><tr><td>&quot;France&quot;</td><td>&quot;Nasty Gal&quot;</td><td>3638350.00</td></tr><tr><td>&quot;Germany&quot;</td><td>&quot;Alibaba&quot;</td><td>3032316.00</td></tr><tr><td>&quot;United States&quot;</td><td>&quot;Ebay&quot;</td><td>2134902.25</td></tr><tr><td>&quot;United States&quot;</td><td>&quot;Zappos&quot;</td><td>1798356.00</td></tr><tr><td>&quot;United States&quot;</td><td>&quot;Amazon&quot;</td><td>1654662.62</td></tr></tbody></table></div>"
      ],
      "text/plain": [
       "shape: (10, 3)\n",
       "┌───────────────┬───────────┬────────────┐\n",
       "│ Pais          ┆ Tienda    ┆ Ventas     │\n",
       "│ ---           ┆ ---       ┆ ---        │\n",
       "│ str           ┆ str       ┆ f32        │\n",
       "╞═══════════════╪═══════════╪════════════╡\n",
       "│ United States ┆ Mr Porter ┆ 7980172.00 │\n",
       "│ United States ┆ Walmart   ┆ 5997758.50 │\n",
       "│ Australia     ┆ BestBuy   ┆ 5088565.00 │\n",
       "│ Canada        ┆ ModCloth  ┆ 4944273.00 │\n",
       "│ …             ┆ …         ┆ …          │\n",
       "│ Germany       ┆ Alibaba   ┆ 3032316.00 │\n",
       "│ United States ┆ Ebay      ┆ 2134902.25 │\n",
       "│ United States ┆ Zappos    ┆ 1798356.00 │\n",
       "│ United States ┆ Amazon    ┆ 1654662.62 │\n",
       "└───────────────┴───────────┴────────────┘"
      ]
     },
     "execution_count": 19,
     "metadata": {},
     "output_type": "execute_result"
    }
   ],
   "source": [
    "# Agrupación basada en más de una columna\n",
    "df.group_by([\"Pais\", \"Tienda\"]).agg((pl.col(\"Unidades\") * pl.col(\"Precio\")).sum().alias(\"Ventas\")).sort(\"Ventas\", descending = True)"
   ]
  }
 ],
 "metadata": {
  "kernelspec": {
   "display_name": "env",
   "language": "python",
   "name": "python3"
  },
  "language_info": {
   "codemirror_mode": {
    "name": "ipython",
    "version": 3
   },
   "file_extension": ".py",
   "mimetype": "text/x-python",
   "name": "python",
   "nbconvert_exporter": "python",
   "pygments_lexer": "ipython3",
   "version": "3.11.6"
  }
 },
 "nbformat": 4,
 "nbformat_minor": 2
}
